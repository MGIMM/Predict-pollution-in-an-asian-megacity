{
 "cells": [
  {
   "cell_type": "code",
   "execution_count": 1,
   "metadata": {
    "collapsed": false
   },
   "outputs": [],
   "source": [
    "import pandas as pd\n",
    "import numpy as np\n",
    "from matplotlib import pyplot as plt\n",
    "from PLUME_function import *\n",
    "\n",
    "%matplotlib inline\n",
    "\n",
    "from sklearn import linear_model"
   ]
  },
  {
   "cell_type": "markdown",
   "metadata": {},
   "source": [
    "## Data importing"
   ]
  },
  {
   "cell_type": "code",
   "execution_count": 198,
   "metadata": {
    "collapsed": true
   },
   "outputs": [],
   "source": [
    "X_train_train = pd.read_csv('sample data/X_train_train.csv')\n",
    "X_train_test = pd.read_csv('sample data/X_train_test.csv')\n",
    "Y_train_train = pd.read_csv('sample data/Y_train_train.csv')\n",
    "Y_train_test = pd.read_csv('sample data/X_train_test.csv')"
   ]
  },
  {
   "cell_type": "code",
   "execution_count": 823,
   "metadata": {
    "collapsed": true
   },
   "outputs": [],
   "source": [
    "Xtrain,Ytrain,Xtest,VarNames = DataImporting()"
   ]
  },
  {
   "cell_type": "code",
   "execution_count": 1114,
   "metadata": {
    "collapsed": false
   },
   "outputs": [],
   "source": [
    "var = 'O3-wind-is-day-month'\n",
    "objet_predict = \"O3\"\n",
    "X_train = pd.get_dummies(DataSample(X_train_train,var)).values\n",
    "#X_train = X_train_train.iloc[:,1:]\n",
    "Y_train = DataSample(Y_train_train,objet_predict).values\n",
    "\n",
    "X_test = pd.get_dummies(DataSample(X_train_test,var)).values\n",
    "#X_test = X_train_test.iloc[:,1:]\n",
    "Y_test = DataSample(Y_train_test,objet_predict).values\n",
    "\n"
   ]
  },
  {
   "cell_type": "code",
   "execution_count": 1115,
   "metadata": {
    "collapsed": false
   },
   "outputs": [
    {
     "data": {
      "text/plain": [
       "(3011, 2769)"
      ]
     },
     "execution_count": 1115,
     "metadata": {},
     "output_type": "execute_result"
    }
   ],
   "source": [
    "X_train.shape"
   ]
  },
  {
   "cell_type": "markdown",
   "metadata": {},
   "source": [
    "## MLP (fully connected)"
   ]
  },
  {
   "cell_type": "code",
   "execution_count": 1116,
   "metadata": {
    "collapsed": true
   },
   "outputs": [],
   "source": [
    "def tanh(x):\n",
    "    return np.tanh(x)\n",
    "\n",
    "def tanh_deriv(x):\n",
    "    return 1.0 - np.tanh(x)**2\n",
    "\n",
    "def logistic(x):\n",
    "    return 1/(1 + np.exp(-x))\n",
    "\n",
    "def logistic_derivative(x):\n",
    "    return 1*logistic(x)*(1-logistic(x))\n",
    "def linear(x):\n",
    "    return x/300.0\n",
    "def linear_deriv(x):\n",
    "    return np.float64(1/300.0)\n",
    "\n",
    "class NeuralNetwork:\n",
    "    def __init__(self, layers, activation='tanh'):\n",
    "        \"\"\"\n",
    "        :param layers: A list containing the number of units in each layer.\n",
    "        Should be at least two values\n",
    "        :param activation: The activation function to be used. Can be\n",
    "        \"logistic\" or \"tanh\"\n",
    "        \"\"\"\n",
    "        if activation == 'logistic':\n",
    "            self.activation = logistic\n",
    "            self.activation_deriv = logistic_derivative\n",
    "        elif activation == 'tanh':\n",
    "            self.activation = tanh\n",
    "            self.activation_deriv = tanh_deriv\n",
    "        elif activation == 'linear':\n",
    "            self.activation = linear\n",
    "            self.activation_deriv = linear_deriv\n",
    "        self.trace = []\n",
    "        self.weights = []\n",
    "        for i in range(1, len(layers) - 1):\n",
    "            self.weights.append((2*np.random.random((layers[i - 1] + 1, layers[i]\n",
    "                                + 1))-1)*0.25)\n",
    "        self.weights.append((2*np.random.random((layers[i] + 1, layers[i +\n",
    "                            1]))-1)*0.25)\n",
    "    def fit(self, X, y, learning_rate=0.2, epochs=1000):\n",
    "        X = np.atleast_2d(X)\n",
    "        temp = np.ones([X.shape[0], X.shape[1]+1])\n",
    "        temp[:, 0:-1] = X  # adding the bias unit to the input layer\n",
    "        X = temp\n",
    "        y = np.array(y)\n",
    "\n",
    "        for k in range(epochs):\n",
    "            i = np.random.randint(X.shape[0])\n",
    "            a = [X[i]]\n",
    "\n",
    "            for l in range(len(self.weights)):\n",
    "                a.append(self.activation(np.dot(a[l], self.weights[l])))\n",
    "            error = y[i] - a[-1]\n",
    "            deltas = [error * self.activation_deriv(a[-1])]\n",
    "            self.trace.append(error)\n",
    "            #print k,error\n",
    "           \n",
    "\n",
    "            for l in range(len(a) - 2, 0, -1): # we need to begin at the second to last layer\n",
    "                deltas.append(deltas[-1].dot(self.weights[l].T)*self.activation_deriv(a[l]))\n",
    "            deltas.reverse()\n",
    "            for i in range(len(self.weights)):\n",
    "                layer = np.atleast_2d(a[i])\n",
    "                delta = np.atleast_2d(deltas[i])\n",
    "                self.weights[i] += learning_rate * layer.T.dot(delta)\n",
    "    def predict(self, x):\n",
    "        x = np.array(x)\n",
    "        temp = np.ones(x.shape[0]+1)\n",
    "        temp[0:-1] = x\n",
    "        a = temp\n",
    "        for l in range(0, len(self.weights)):\n",
    "            a = self.activation(np.dot(a, self.weights[l]))\n",
    "\n",
    "        return a"
   ]
  },
  {
   "cell_type": "code",
   "execution_count": 1132,
   "metadata": {
    "collapsed": false
   },
   "outputs": [],
   "source": [
    "hour = 2\n",
    "Y_hour_train = Y_train[:,hour-1]\n",
    "Y_hour_test = Y_test[:,hour-1]"
   ]
  },
  {
   "cell_type": "code",
   "execution_count": null,
   "metadata": {
    "collapsed": false
   },
   "outputs": [],
   "source": [
    "nn = NeuralNetwork([np.shape(X_train)[1],4,1], 'linear')\n",
    "\n",
    "\n",
    "nn.fit(X_train, Y_hour_train,learning_rate=0.003,epochs=61000)\n",
    "\n",
    "\n",
    "MSE = 0 \n",
    "\n",
    "for i in range(len(Y_hour_test)):\n",
    "    MSE += (Y_hour_test[i] - nn.predict(X_test[i])) ** 2\n",
    "print 'MSE(MLP) :', MSE*24\n"
   ]
  },
  {
   "cell_type": "code",
   "execution_count": null,
   "metadata": {
    "collapsed": false
   },
   "outputs": [],
   "source": []
  },
  {
   "cell_type": "code",
   "execution_count": null,
   "metadata": {
    "collapsed": false
   },
   "outputs": [],
   "source": [
    "plt.figure(figsize = [15,5])\n",
    "plt.plot(Y_hour_test)\n",
    "plt.plot([nn.predict(X_test[id]) for id in range(len(Y_hour_test))])"
   ]
  },
  {
   "cell_type": "code",
   "execution_count": null,
   "metadata": {
    "collapsed": false
   },
   "outputs": [],
   "source": [
    "plt.figure(figsize=[15,5])\n",
    "plt.plot(nn.trace[:])"
   ]
  },
  {
   "cell_type": "markdown",
   "metadata": {},
   "source": [
    "# The Final Model\n",
    "\n",
    "## For NO2"
   ]
  },
  {
   "cell_type": "code",
   "execution_count": 1101,
   "metadata": {
    "collapsed": false
   },
   "outputs": [
    {
     "data": {
      "text/plain": [
       "array([ 4767401.5538634])"
      ]
     },
     "execution_count": 1101,
     "metadata": {},
     "output_type": "execute_result"
    }
   ],
   "source": [
    "MSE_NO2 = 0 \n",
    "\n",
    "\n",
    "var = 'NO2-is-day-month-windB-XPrecipIntensity_04143-XPrecipProbability_04143'\n",
    "objet_predict = \"NO2\"\n",
    "\n",
    "X_train = pd.get_dummies(DataSample(X_train_train,var)).values\n",
    "#X_train = X_train_train.iloc[:,1:]\n",
    "Y_train = DataSample(Y_train_train,objet_predict).values\n",
    "\n",
    "X_test = pd.get_dummies(DataSample(X_train_test,var)).values\n",
    "#X_test = X_train_test.iloc[:,1:]\n",
    "Y_test = DataSample(Y_train_test,objet_predict).values\n",
    "\n",
    "\n",
    "for hour in range(24):\n",
    "    Y_hour_train = Y_train[:,hour]\n",
    "    Y_hour_test = Y_test[:,hour]\n",
    "\n",
    "    nn = NeuralNetwork([np.shape(X_train)[1],10,1], 'linear')\n",
    "    nn.fit(X_train, Y_hour_train,learning_rate=0.03,epochs=6000)\n",
    "\n",
    "    for i in range(len(Y_hour_test)):\n",
    "        MSE_NO2 += (Y_hour_test[i] - nn.predict(X_test[i])) ** 2\n",
    "\n",
    "\n",
    "MSE_NO2"
   ]
  },
  {
   "cell_type": "markdown",
   "metadata": {},
   "source": [
    "## For O3"
   ]
  },
  {
   "cell_type": "code",
   "execution_count": 1100,
   "metadata": {
    "collapsed": false
   },
   "outputs": [
    {
     "data": {
      "text/plain": [
       "array([ 9453779.31946302])"
      ]
     },
     "execution_count": 1100,
     "metadata": {},
     "output_type": "execute_result"
    }
   ],
   "source": [
    "MSE_O3 = 0 \n",
    "\n",
    "\n",
    "var = 'O3-is-windB-day-month'\n",
    "objet_predict = \"O3\"\n",
    "\n",
    "X_train = pd.get_dummies(DataSample(X_train_train,var)).values\n",
    "#X_train = X_train_train.iloc[:,1:]\n",
    "Y_train = DataSample(Y_train_train,objet_predict).values\n",
    "\n",
    "X_test = pd.get_dummies(DataSample(X_train_test,var)).values\n",
    "#X_test = X_train_test.iloc[:,1:]\n",
    "Y_test = DataSample(Y_train_test,objet_predict).values\n",
    "\n",
    "\n",
    "for hour in range(24):\n",
    "    Y_hour_train = Y_train[:,hour]\n",
    "    Y_hour_test = Y_test[:,hour]\n",
    "\n",
    "    nn = NeuralNetwork([np.shape(X_train)[1],2,1], 'linear')\n",
    "    nn.fit(X_train, Y_hour_train,learning_rate=0.03,epochs=6000)\n",
    "\n",
    "    for i in range(len(Y_hour_test)):\n",
    "        MSE_O3 += (Y_hour_test[i] - nn.predict(X_test[i])) ** 2\n",
    "\n",
    "\n",
    "\n",
    "MSE_O3"
   ]
  },
  {
   "cell_type": "markdown",
   "metadata": {},
   "source": [
    "## For PM2.5"
   ]
  },
  {
   "cell_type": "code",
   "execution_count": 1102,
   "metadata": {
    "collapsed": false
   },
   "outputs": [
    {
     "data": {
      "text/plain": [
       "array([ 2097886.95129554])"
      ]
     },
     "execution_count": 1102,
     "metadata": {},
     "output_type": "execute_result"
    }
   ],
   "source": [
    "MSE_PM2_5 = 0 \n",
    "\n",
    "\n",
    "var = 'PM2-is-day-month-windB'\n",
    "objet_predict = \"PM2\"\n",
    "\n",
    "X_train = pd.get_dummies(DataSample(X_train_train,var)).values\n",
    "#X_train = X_train_train.iloc[:,1:]\n",
    "Y_train = DataSample(Y_train_train,objet_predict).values\n",
    "\n",
    "X_test = pd.get_dummies(DataSample(X_train_test,var)).values\n",
    "#X_test = X_train_test.iloc[:,1:]\n",
    "Y_test = DataSample(Y_train_test,objet_predict).values\n",
    "\n",
    "\n",
    "for hour in range(24):\n",
    "    Y_hour_train = Y_train[:,hour]\n",
    "    Y_hour_test = Y_test[:,hour]\n",
    "\n",
    "    nn = NeuralNetwork([np.shape(X_train)[1],2,1], 'linear')\n",
    "    nn.fit(X_train, Y_hour_train,learning_rate=0.05,epochs=4000)\n",
    "\n",
    "    for i in range(len(Y_hour_test)):\n",
    "        MSE_PM2_5 += (Y_hour_test[i] - nn.predict(X_test[i])) ** 2\n",
    "\n",
    "\n",
    "\n",
    "\n",
    "MSE_PM2_5"
   ]
  },
  {
   "cell_type": "markdown",
   "metadata": {},
   "source": [
    "## For PM10"
   ]
  },
  {
   "cell_type": "code",
   "execution_count": 1103,
   "metadata": {
    "collapsed": false
   },
   "outputs": [
    {
     "data": {
      "text/plain": [
       "array([ 1116261.88596783])"
      ]
     },
     "execution_count": 1103,
     "metadata": {},
     "output_type": "execute_result"
    }
   ],
   "source": [
    "MSE_PM10 = 0 \n",
    "\n",
    "\n",
    "var = 'PM10-is-day-month-windB'\n",
    "objet_predict = \"PM10\"\n",
    "\n",
    "X_train = pd.get_dummies(DataSample(X_train_train,var)).values\n",
    "#X_train = X_train_train.iloc[:,1:]\n",
    "Y_train = DataSample(Y_train_train,objet_predict).values\n",
    "\n",
    "X_test = pd.get_dummies(DataSample(X_train_test,var)).values\n",
    "#X_test = X_train_test.iloc[:,1:]\n",
    "Y_test = DataSample(Y_train_test,objet_predict).values\n",
    "\n",
    "\n",
    "for hour in range(24):\n",
    "    Y_hour_train = Y_train[:,hour]\n",
    "    Y_hour_test = Y_test[:,hour]\n",
    "\n",
    "    nn = NeuralNetwork([np.shape(X_train)[1],2,1], 'linear')\n",
    "    nn.fit(X_train, Y_hour_train,learning_rate=0.05,epochs=4000)\n",
    "\n",
    "    for i in range(len(Y_hour_test)):\n",
    "        MSE_PM10 += (Y_hour_test[i] - nn.predict(X_test[i])) ** 2\n",
    "\n",
    "\n",
    "\n",
    "\n",
    "\n",
    "MSE_PM10"
   ]
  },
  {
   "cell_type": "markdown",
   "metadata": {},
   "source": [
    "## Conclusion"
   ]
  },
  {
   "cell_type": "code",
   "execution_count": 1082,
   "metadata": {
    "collapsed": false
   },
   "outputs": [
    {
     "name": "stdout",
     "output_type": "stream",
     "text": [
      "MSE: [ 16691.69068282]\n"
     ]
    }
   ],
   "source": [
    "MSE = MSE_NO2 + MSE_O3 + MSE_PM2_5 + MSE_PM10\n",
    "MSE = MSE/(float(len(Y_hour_test)))\n",
    "print \"MSE:\",MSE"
   ]
  },
  {
   "cell_type": "code",
   "execution_count": null,
   "metadata": {
    "collapsed": false
   },
   "outputs": [],
   "source": [
    "(float(len(Y_hour_test)))"
   ]
  },
  {
   "cell_type": "code",
   "execution_count": 840,
   "metadata": {
    "collapsed": false
   },
   "outputs": [
    {
     "data": {
      "text/html": [
       "<div>\n",
       "<table border=\"1\" class=\"dataframe\">\n",
       "  <thead>\n",
       "    <tr style=\"text-align: right;\">\n",
       "      <th></th>\n",
       "      <th>PM2_5_04143_1</th>\n",
       "      <th>PM2_5_04143_2</th>\n",
       "      <th>PM2_5_04143_3</th>\n",
       "      <th>PM2_5_04143_4</th>\n",
       "      <th>PM2_5_04143_5</th>\n",
       "      <th>PM2_5_04143_6</th>\n",
       "    </tr>\n",
       "  </thead>\n",
       "  <tbody>\n",
       "    <tr>\n",
       "      <th>0</th>\n",
       "      <td>1</td>\n",
       "      <td>2</td>\n",
       "      <td>3</td>\n",
       "      <td>4</td>\n",
       "      <td>5</td>\n",
       "      <td>6</td>\n",
       "    </tr>\n",
       "    <tr>\n",
       "      <th>1</th>\n",
       "      <td>1</td>\n",
       "      <td>1</td>\n",
       "      <td>1</td>\n",
       "      <td>2</td>\n",
       "      <td>2</td>\n",
       "      <td>2</td>\n",
       "    </tr>\n",
       "  </tbody>\n",
       "</table>\n",
       "</div>"
      ],
      "text/plain": [
       "   PM2_5_04143_1  PM2_5_04143_2  PM2_5_04143_3  PM2_5_04143_4  PM2_5_04143_5  \\\n",
       "0              1              2              3              4              5   \n",
       "1              1              1              1              2              2   \n",
       "\n",
       "   PM2_5_04143_6  \n",
       "0              6  \n",
       "1              2  "
      ]
     },
     "execution_count": 840,
     "metadata": {},
     "output_type": "execute_result"
    }
   ],
   "source": [
    "test3 = pd.concat([pd.DataFrame([[1,2,3],[1,1,1]]), pd.DataFrame([[4,5,6],[2,2,2]])], axis=1)\n",
    "test3.columns =Ytrain.columns.values[0:6]\n",
    "test3"
   ]
  },
  {
   "cell_type": "code",
   "execution_count": 836,
   "metadata": {
    "collapsed": false
   },
   "outputs": [
    {
     "data": {
      "text/plain": [
       "array(['PM2_5_04143_1', 'PM2_5_04143_2', 'PM2_5_04143_3', 'PM2_5_04143_4',\n",
       "       'PM2_5_04143_5', 'PM2_5_04143_6', 'PM2_5_04143_7', 'PM2_5_04143_8',\n",
       "       'PM2_5_04143_9', 'PM2_5_04143_10', 'PM2_5_04143_11',\n",
       "       'PM2_5_04143_12', 'PM2_5_04143_13', 'PM2_5_04143_14',\n",
       "       'PM2_5_04143_15', 'PM2_5_04143_16', 'PM2_5_04143_17',\n",
       "       'PM2_5_04143_18', 'PM2_5_04143_19', 'PM2_5_04143_20',\n",
       "       'PM2_5_04143_21', 'PM2_5_04143_22', 'PM2_5_04143_23',\n",
       "       'PM2_5_04143_24', 'PM10_04143_1', 'PM10_04143_2', 'PM10_04143_3',\n",
       "       'PM10_04143_4', 'PM10_04143_5', 'PM10_04143_6', 'PM10_04143_7',\n",
       "       'PM10_04143_8', 'PM10_04143_9', 'PM10_04143_10', 'PM10_04143_11',\n",
       "       'PM10_04143_12', 'PM10_04143_13', 'PM10_04143_14', 'PM10_04143_15',\n",
       "       'PM10_04143_16', 'PM10_04143_17', 'PM10_04143_18', 'PM10_04143_19',\n",
       "       'PM10_04143_20', 'PM10_04143_21', 'PM10_04143_22', 'PM10_04143_23',\n",
       "       'PM10_04143_24', 'O3_04143_1', 'O3_04143_2', 'O3_04143_3',\n",
       "       'O3_04143_4', 'O3_04143_5', 'O3_04143_6', 'O3_04143_7',\n",
       "       'O3_04143_8', 'O3_04143_9', 'O3_04143_10', 'O3_04143_11',\n",
       "       'O3_04143_12', 'O3_04143_13', 'O3_04143_14', 'O3_04143_15',\n",
       "       'O3_04143_16', 'O3_04143_17', 'O3_04143_18', 'O3_04143_19',\n",
       "       'O3_04143_20', 'O3_04143_21', 'O3_04143_22', 'O3_04143_23',\n",
       "       'O3_04143_24', 'NO2_04143_1', 'NO2_04143_2', 'NO2_04143_3',\n",
       "       'NO2_04143_4', 'NO2_04143_5', 'NO2_04143_6', 'NO2_04143_7',\n",
       "       'NO2_04143_8', 'NO2_04143_9', 'NO2_04143_10', 'NO2_04143_11',\n",
       "       'NO2_04143_12', 'NO2_04143_13', 'NO2_04143_14', 'NO2_04143_15',\n",
       "       'NO2_04143_16', 'NO2_04143_17', 'NO2_04143_18', 'NO2_04143_19',\n",
       "       'NO2_04143_20', 'NO2_04143_21', 'NO2_04143_22', 'NO2_04143_23',\n",
       "       'NO2_04143_24'], dtype=object)"
      ]
     },
     "execution_count": 836,
     "metadata": {},
     "output_type": "execute_result"
    }
   ],
   "source": [
    "Ytrain.columns.values"
   ]
  },
  {
   "cell_type": "code",
   "execution_count": 1085,
   "metadata": {
    "collapsed": false
   },
   "outputs": [
    {
     "data": {
      "text/plain": [
       "12000"
      ]
     },
     "execution_count": 1085,
     "metadata": {},
     "output_type": "execute_result"
    }
   ],
   "source": []
  },
  {
   "cell_type": "code",
   "execution_count": null,
   "metadata": {
    "collapsed": true
   },
   "outputs": [],
   "source": []
  }
 ],
 "metadata": {
  "kernelspec": {
   "display_name": "Python 2",
   "language": "python",
   "name": "python2"
  },
  "language_info": {
   "codemirror_mode": {
    "name": "ipython",
    "version": 2
   },
   "file_extension": ".py",
   "mimetype": "text/x-python",
   "name": "python",
   "nbconvert_exporter": "python",
   "pygments_lexer": "ipython2",
   "version": "2.7.11"
  }
 },
 "nbformat": 4,
 "nbformat_minor": 0
}
