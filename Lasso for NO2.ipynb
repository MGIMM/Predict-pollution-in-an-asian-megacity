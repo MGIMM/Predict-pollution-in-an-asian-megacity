{
 "cells": [
  {
   "cell_type": "code",
   "execution_count": 32,
   "metadata": {
    "collapsed": false
   },
   "outputs": [],
   "source": [
    "import pandas as pd\n",
    "import numpy as np\n",
    "from matplotlib import pyplot as plt\n",
    "from PLUME_function import *\n",
    "import seaborn as sns\n",
    "%matplotlib inline"
   ]
  },
  {
   "cell_type": "markdown",
   "metadata": {},
   "source": [
    "## Data importing"
   ]
  },
  {
   "cell_type": "code",
   "execution_count": 2,
   "metadata": {
    "collapsed": true
   },
   "outputs": [],
   "source": [
    "Xtrain,Ytrain,Xtest,VarNames = DataImporting()"
   ]
  },
  {
   "cell_type": "code",
   "execution_count": 42,
   "metadata": {
    "collapsed": false
   },
   "outputs": [
    {
     "name": "stdout",
     "output_type": "stream",
     "text": [
      "(4031, 24)\n"
     ]
    }
   ],
   "source": [
    "X_NO2 = DataSample(Xtrain,\"NO2\")\n",
    "X_O3 = DataSample(Xtrain,\"O3\")\n",
    "#X = pd.DataFrame({X_NO2,X_O3})\n",
    "X = pd.concat([X_NO2, X_O3], axis=1)\n",
    "Y = DataSample(Ytrain,\"NO2\").values\n",
    "print np.shape(Y)"
   ]
  },
  {
   "cell_type": "code",
   "execution_count": 162,
   "metadata": {
    "collapsed": false,
    "scrolled": false
   },
   "outputs": [
    {
     "data": {
      "text/plain": [
       "Lasso(alpha=1, copy_X=True, fit_intercept=True, max_iter=1000,\n",
       "   normalize=False, positive=False, precompute=False, random_state=None,\n",
       "   selection='cyclic', tol=0.0001, warm_start=False)"
      ]
     },
     "execution_count": 162,
     "metadata": {},
     "output_type": "execute_result"
    }
   ],
   "source": [
    "from sklearn import linear_model\n",
    "clf = linear_model.Lasso(alpha=1)\n",
    "clf.fit(Y, X)\n",
    "\n"
   ]
  },
  {
   "cell_type": "code",
   "execution_count": 163,
   "metadata": {
    "collapsed": false,
    "scrolled": false
   },
   "outputs": [
    {
     "data": {
      "text/plain": [
       "(array([   6.,   33.,   48.,  176.,  137.,   82.,   16.,    8.,   11.,    8.]),\n",
       " array([-0.71995097, -0.53391909, -0.34788722, -0.16185535,  0.02417653,\n",
       "         0.2102084 ,  0.39624028,  0.58227215,  0.76830402,  0.9543359 ,\n",
       "         1.14036777]),\n",
       " <a list of 10 Patch objects>)"
      ]
     },
     "execution_count": 163,
     "metadata": {},
     "output_type": "execute_result"
    },
    {
     "data": {
      "image/png": "[encoded data removed]",
      "text/plain": [
       "<matplotlib.figure.Figure at 0x1233f83d0>"
      ]
     },
     "metadata": {},
     "output_type": "display_data"
    }
   ],
   "source": [
    "plt.figure(figsize = [10,5])\n",
    "hour = 1\n",
    "plt.hist([clf.coef_[i][hour-1] for i in range(np.shape(clf.coef_)[0])], bins = 10)\n",
    "#print(clf.intercept_)\n",
    "#[int(clf.coef_[i][1]!=0) for i in range(np.shape(clf.coef_)[0])]\n",
    "\n"
   ]
  },
  {
   "cell_type": "code",
   "execution_count": 164,
   "metadata": {
    "collapsed": false
   },
   "outputs": [
    {
     "data": {
      "text/html": [
       "<div>\n",
       "<table border=\"1\" class=\"dataframe\">\n",
       "  <thead>\n",
       "    <tr style=\"text-align: right;\">\n",
       "      <th></th>\n",
       "      <th>date</th>\n",
       "      <th>hour</th>\n",
       "      <th>day</th>\n",
       "      <th>month</th>\n",
       "      <th>isPublicHollyday</th>\n",
       "      <th>isPublicHollyday_-24</th>\n",
       "      <th>isPublicHollyday_+24</th>\n",
       "      <th>isSundayOrPublicHollyday</th>\n",
       "      <th>isSundayOrPublicHollyday_-24</th>\n",
       "      <th>isSundayOrPublicHollyday_+24</th>\n",
       "      <th>...</th>\n",
       "      <th>PM10_04034_-9</th>\n",
       "      <th>PM10_04034_-8</th>\n",
       "      <th>PM10_04034_-7</th>\n",
       "      <th>PM10_04034_-6</th>\n",
       "      <th>PM10_04034_-5</th>\n",
       "      <th>PM10_04034_-4</th>\n",
       "      <th>PM10_04034_-3</th>\n",
       "      <th>PM10_04034_-2</th>\n",
       "      <th>PM10_04034_-1</th>\n",
       "      <th>PM10_04034_0</th>\n",
       "    </tr>\n",
       "  </thead>\n",
       "  <tbody>\n",
       "    <tr>\n",
       "      <th>0</th>\n",
       "      <td>2015-01-28 03</td>\n",
       "      <td>3</td>\n",
       "      <td>2</td>\n",
       "      <td>1</td>\n",
       "      <td>0</td>\n",
       "      <td>0</td>\n",
       "      <td>0</td>\n",
       "      <td>0</td>\n",
       "      <td>0</td>\n",
       "      <td>0</td>\n",
       "      <td>...</td>\n",
       "      <td>23</td>\n",
       "      <td>29</td>\n",
       "      <td>31</td>\n",
       "      <td>28</td>\n",
       "      <td>26.00</td>\n",
       "      <td>24.25</td>\n",
       "      <td>19.428581</td>\n",
       "      <td>19.412934</td>\n",
       "      <td>19</td>\n",
       "      <td>20</td>\n",
       "    </tr>\n",
       "    <tr>\n",
       "      <th>1</th>\n",
       "      <td>2015-01-28 04</td>\n",
       "      <td>4</td>\n",
       "      <td>2</td>\n",
       "      <td>1</td>\n",
       "      <td>0</td>\n",
       "      <td>0</td>\n",
       "      <td>0</td>\n",
       "      <td>0</td>\n",
       "      <td>0</td>\n",
       "      <td>0</td>\n",
       "      <td>...</td>\n",
       "      <td>29</td>\n",
       "      <td>31</td>\n",
       "      <td>28</td>\n",
       "      <td>26</td>\n",
       "      <td>24.25</td>\n",
       "      <td>22.50</td>\n",
       "      <td>19.428581</td>\n",
       "      <td>19.000000</td>\n",
       "      <td>20</td>\n",
       "      <td>20</td>\n",
       "    </tr>\n",
       "    <tr>\n",
       "      <th>1</th>\n",
       "      <td>2015-01-28 04</td>\n",
       "      <td>4</td>\n",
       "      <td>2</td>\n",
       "      <td>1</td>\n",
       "      <td>0</td>\n",
       "      <td>0</td>\n",
       "      <td>0</td>\n",
       "      <td>0</td>\n",
       "      <td>0</td>\n",
       "      <td>0</td>\n",
       "      <td>...</td>\n",
       "      <td>29</td>\n",
       "      <td>31</td>\n",
       "      <td>28</td>\n",
       "      <td>26</td>\n",
       "      <td>24.25</td>\n",
       "      <td>22.50</td>\n",
       "      <td>19.428581</td>\n",
       "      <td>19.000000</td>\n",
       "      <td>20</td>\n",
       "      <td>20</td>\n",
       "    </tr>\n",
       "    <tr>\n",
       "      <th>1</th>\n",
       "      <td>2015-01-28 04</td>\n",
       "      <td>4</td>\n",
       "      <td>2</td>\n",
       "      <td>1</td>\n",
       "      <td>0</td>\n",
       "      <td>0</td>\n",
       "      <td>0</td>\n",
       "      <td>0</td>\n",
       "      <td>0</td>\n",
       "      <td>0</td>\n",
       "      <td>...</td>\n",
       "      <td>29</td>\n",
       "      <td>31</td>\n",
       "      <td>28</td>\n",
       "      <td>26</td>\n",
       "      <td>24.25</td>\n",
       "      <td>22.50</td>\n",
       "      <td>19.428581</td>\n",
       "      <td>19.000000</td>\n",
       "      <td>20</td>\n",
       "      <td>20</td>\n",
       "    </tr>\n",
       "    <tr>\n",
       "      <th>0</th>\n",
       "      <td>2015-01-28 03</td>\n",
       "      <td>3</td>\n",
       "      <td>2</td>\n",
       "      <td>1</td>\n",
       "      <td>0</td>\n",
       "      <td>0</td>\n",
       "      <td>0</td>\n",
       "      <td>0</td>\n",
       "      <td>0</td>\n",
       "      <td>0</td>\n",
       "      <td>...</td>\n",
       "      <td>23</td>\n",
       "      <td>29</td>\n",
       "      <td>31</td>\n",
       "      <td>28</td>\n",
       "      <td>26.00</td>\n",
       "      <td>24.25</td>\n",
       "      <td>19.428581</td>\n",
       "      <td>19.412934</td>\n",
       "      <td>19</td>\n",
       "      <td>20</td>\n",
       "    </tr>\n",
       "  </tbody>\n",
       "</table>\n",
       "<p>5 rows × 3729 columns</p>\n",
       "</div>"
      ],
      "text/plain": [
       "            date  hour  day  month  isPublicHollyday  isPublicHollyday_-24  \\\n",
       "0  2015-01-28 03     3    2      1                 0                     0   \n",
       "1  2015-01-28 04     4    2      1                 0                     0   \n",
       "1  2015-01-28 04     4    2      1                 0                     0   \n",
       "1  2015-01-28 04     4    2      1                 0                     0   \n",
       "0  2015-01-28 03     3    2      1                 0                     0   \n",
       "\n",
       "   isPublicHollyday_+24  isSundayOrPublicHollyday  \\\n",
       "0                     0                         0   \n",
       "1                     0                         0   \n",
       "1                     0                         0   \n",
       "1                     0                         0   \n",
       "0                     0                         0   \n",
       "\n",
       "   isSundayOrPublicHollyday_-24  isSundayOrPublicHollyday_+24      ...       \\\n",
       "0                             0                             0      ...        \n",
       "1                             0                             0      ...        \n",
       "1                             0                             0      ...        \n",
       "1                             0                             0      ...        \n",
       "0                             0                             0      ...        \n",
       "\n",
       "   PM10_04034_-9  PM10_04034_-8  PM10_04034_-7  PM10_04034_-6  PM10_04034_-5  \\\n",
       "0             23             29             31             28          26.00   \n",
       "1             29             31             28             26          24.25   \n",
       "1             29             31             28             26          24.25   \n",
       "1             29             31             28             26          24.25   \n",
       "0             23             29             31             28          26.00   \n",
       "\n",
       "   PM10_04034_-4  PM10_04034_-3  PM10_04034_-2  PM10_04034_-1  PM10_04034_0  \n",
       "0          24.25      19.428581      19.412934             19            20  \n",
       "1          22.50      19.428581      19.000000             20            20  \n",
       "1          22.50      19.428581      19.000000             20            20  \n",
       "1          22.50      19.428581      19.000000             20            20  \n",
       "0          24.25      19.428581      19.412934             19            20  \n",
       "\n",
       "[5 rows x 3729 columns]"
      ]
     },
     "execution_count": 164,
     "metadata": {},
     "output_type": "execute_result"
    }
   ],
   "source": [
    "Xtrain.iloc[[int(clf.coef_[i][1]!=0) for i in range(np.shape(clf.coef_)[0])]].head()"
   ]
  },
  {
   "cell_type": "code",
   "execution_count": 169,
   "metadata": {
    "collapsed": false
   },
   "outputs": [],
   "source": [
    "hour = 3\n",
    "a=pd.Series([int(clf.coef_[i][1]!=0) for i in range(np.shape(clf.coef_)[0])])\n",
    "X_lasso = X.loc[:,a.values != 0]\n",
    "Y_hour = Y[:,hour-1]"
   ]
  },
  {
   "cell_type": "code",
   "execution_count": 170,
   "metadata": {
    "collapsed": false
   },
   "outputs": [
    {
     "name": "stdout",
     "output_type": "stream",
     "text": [
      "MSE = 112.448930025\n",
      "\n",
      "R2 = 0.700200585088\n",
      "\n"
     ]
    }
   ],
   "source": [
    "from sklearn import linear_model\n",
    "lm = linear_model.LinearRegression()\n",
    "lm.fit(X_lasso,Y_hour)\n",
    "MSE = np.mean((Y_hour - lm.predict(X_lasso)) ** 2)\n",
    "R2 = lm.score(X_lasso,Y_hour)\n",
    "print 'MSE = ' + str(MSE) + '\\n'\n",
    "print 'R2 = ' + str(R2) + '\\n'"
   ]
  },
  {
   "cell_type": "code",
   "execution_count": 171,
   "metadata": {
    "collapsed": false
   },
   "outputs": [
    {
     "name": "stdout",
     "output_type": "stream",
     "text": [
      "MSE = 104.953289517\n",
      "\n",
      "R2 = 0.72018466709\n",
      "\n"
     ]
    }
   ],
   "source": [
    "lm = linear_model.LinearRegression()\n",
    "lm.fit(X,Y_hour)\n",
    "MSE = np.mean((Y_hour - lm.predict(X)) ** 2)\n",
    "R2 = lm.score(X,Y_hour)\n",
    "print 'MSE = ' + str(MSE) + '\\n'\n",
    "print 'R2 = ' + str(R2) + '\\n'"
   ]
  },
  {
   "cell_type": "code",
   "execution_count": 168,
   "metadata": {
    "collapsed": false
   },
   "outputs": [
    {
     "name": "stdout",
     "output_type": "stream",
     "text": [
      "(4031, 292)\n"
     ]
    }
   ],
   "source": [
    "print np.shape(X_lasso)"
   ]
  },
  {
   "cell_type": "code",
   "execution_count": null,
   "metadata": {
    "collapsed": true
   },
   "outputs": [],
   "source": []
  },
  {
   "cell_type": "code",
   "execution_count": null,
   "metadata": {
    "collapsed": true
   },
   "outputs": [],
   "source": []
  },
  {
   "cell_type": "code",
   "execution_count": null,
   "metadata": {
    "collapsed": true
   },
   "outputs": [],
   "source": []
  },
  {
   "cell_type": "code",
   "execution_count": null,
   "metadata": {
    "collapsed": true
   },
   "outputs": [],
   "source": []
  }
 ],
 "metadata": {
  "kernelspec": {
   "display_name": "Python 2",
   "language": "python",
   "name": "python2"
  },
  "language_info": {
   "codemirror_mode": {
    "name": "ipython",
    "version": 2
   },
   "file_extension": ".py",
   "mimetype": "text/x-python",
   "name": "python",
   "nbconvert_exporter": "python",
   "pygments_lexer": "ipython2",
   "version": "2.7.11"
  }
 },
 "nbformat": 4,
 "nbformat_minor": 0
}
