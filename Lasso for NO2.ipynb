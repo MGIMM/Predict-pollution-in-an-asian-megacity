{
 "cells": [
  {
   "cell_type": "code",
   "execution_count": 32,
   "metadata": {
    "collapsed": false
   },
   "outputs": [],
   "source": [
    "import pandas as pd\n",
    "import numpy as np\n",
    "from matplotlib import pyplot as plt\n",
    "from PLUME_function import *\n",
    "import seaborn as sns\n",
    "%matplotlib inline"
   ]
  },
  {
   "cell_type": "markdown",
   "metadata": {},
   "source": [
    "## Data importing"
   ]
  },
  {
   "cell_type": "code",
   "execution_count": 2,
   "metadata": {
    "collapsed": true
   },
   "outputs": [],
   "source": [
    "Xtrain,Ytrain,Xtest,VarNames = DataImporting()"
   ]
  },
  {
   "cell_type": "markdown",
   "metadata": {},
   "source": [
    "## Creation of the train & test data."
   ]
  },
  {
   "cell_type": "code",
   "execution_count": 187,
   "metadata": {
    "collapsed": false
   },
   "outputs": [],
   "source": [
    "date_train_list = sorted(list(set([DataSample(Xtrain,\"NO2\",keep_date= True).date.values[i].split(' ')[0] for i in range(4031)])))"
   ]
  },
  {
   "cell_type": "code",
   "execution_count": 245,
   "metadata": {
    "collapsed": false,
    "scrolled": true
   },
   "outputs": [],
   "source": [
    "#date_train_list"
   ]
  },
  {
   "cell_type": "code",
   "execution_count": 196,
   "metadata": {
    "collapsed": false
   },
   "outputs": [
    {
     "data": {
      "text/plain": [
       "28"
      ]
     },
     "execution_count": 196,
     "metadata": {},
     "output_type": "execute_result"
    }
   ],
   "source": [
    "start = '2015-03-08'\n",
    "end = '2015-04-05'\n",
    "date_train_list.index(end) - date_train_list.index(start)"
   ]
  },
  {
   "cell_type": "markdown",
   "metadata": {},
   "source": [
    "Alors, on va prendre 21 jours pour l'apprendissage et 8 jours pour le test."
   ]
  },
  {
   "cell_type": "code",
   "execution_count": 210,
   "metadata": {
    "collapsed": false
   },
   "outputs": [
    {
     "name": "stdout",
     "output_type": "stream",
     "text": [
      "['2015-01-28', '2015-03-08', '2015-04-16', '2015-05-25', '2015-07-03', '2015-08-11']\n",
      "['2015-02-17', '2015-03-28', '2015-05-06', '2015-06-14', '2015-07-23', '2015-08-31']\n",
      "['2015-02-18', '2015-03-29', '2015-05-07', '2015-06-15', '2015-07-24', '2015-09-01']\n",
      "['2015-02-25', '2015-04-05', '2015-05-14', '2015-06-22', '2015-07-31', '2015-09-08']\n"
     ]
    }
   ],
   "source": [
    "date_train_end = [date_train_list[i] for i in range(20,len(date_train_list),29)]\n",
    "date_train_start = [date_train_list[i] for i in range(0,len(date_train_list),29)]\n",
    "print date_train_start\n",
    "print date_train_end\n",
    "date_test_end = [date_train_list[i] for i in range(28,len(date_train_list),29)]\n",
    "date_test_start = [date_train_list[i] for i in range(21,len(date_train_list),29)]\n",
    "print date_test_start\n",
    "print date_test_end"
   ]
  },
  {
   "cell_type": "code",
   "execution_count": null,
   "metadata": {
    "collapsed": true
   },
   "outputs": [],
   "source": [
    "for bloc in range(5):\n",
    "    for i in range(len(Xtrain)):\n",
    "        \n",
    "        "
   ]
  },
  {
   "cell_type": "code",
   "execution_count": 253,
   "metadata": {
    "collapsed": false,
    "scrolled": true
   },
   "outputs": [
    {
     "data": {
      "text/html": [
       "<div>\n",
       "<table border=\"1\" class=\"dataframe\">\n",
       "  <thead>\n",
       "    <tr style=\"text-align: right;\">\n",
       "      <th></th>\n",
       "      <th>date</th>\n",
       "      <th>hour</th>\n",
       "      <th>day</th>\n",
       "      <th>month</th>\n",
       "      <th>isPublicHollyday</th>\n",
       "      <th>isPublicHollyday_-24</th>\n",
       "      <th>isPublicHollyday_+24</th>\n",
       "      <th>isSundayOrPublicHollyday</th>\n",
       "      <th>isSundayOrPublicHollyday_-24</th>\n",
       "      <th>isSundayOrPublicHollyday_+24</th>\n",
       "      <th>...</th>\n",
       "      <th>PM10_04034_-9</th>\n",
       "      <th>PM10_04034_-8</th>\n",
       "      <th>PM10_04034_-7</th>\n",
       "      <th>PM10_04034_-6</th>\n",
       "      <th>PM10_04034_-5</th>\n",
       "      <th>PM10_04034_-4</th>\n",
       "      <th>PM10_04034_-3</th>\n",
       "      <th>PM10_04034_-2</th>\n",
       "      <th>PM10_04034_-1</th>\n",
       "      <th>PM10_04034_0</th>\n",
       "    </tr>\n",
       "  </thead>\n",
       "  <tbody>\n",
       "    <tr>\n",
       "      <th>501</th>\n",
       "      <td>2015-02-18 00</td>\n",
       "      <td>0</td>\n",
       "      <td>2</td>\n",
       "      <td>2</td>\n",
       "      <td>0</td>\n",
       "      <td>0</td>\n",
       "      <td>0</td>\n",
       "      <td>0</td>\n",
       "      <td>0</td>\n",
       "      <td>0</td>\n",
       "      <td>...</td>\n",
       "      <td>19</td>\n",
       "      <td>26</td>\n",
       "      <td>30</td>\n",
       "      <td>28</td>\n",
       "      <td>25</td>\n",
       "      <td>23</td>\n",
       "      <td>20</td>\n",
       "      <td>17</td>\n",
       "      <td>18</td>\n",
       "      <td>19</td>\n",
       "    </tr>\n",
       "    <tr>\n",
       "      <th>502</th>\n",
       "      <td>2015-02-18 01</td>\n",
       "      <td>1</td>\n",
       "      <td>2</td>\n",
       "      <td>2</td>\n",
       "      <td>0</td>\n",
       "      <td>0</td>\n",
       "      <td>0</td>\n",
       "      <td>0</td>\n",
       "      <td>0</td>\n",
       "      <td>0</td>\n",
       "      <td>...</td>\n",
       "      <td>26</td>\n",
       "      <td>30</td>\n",
       "      <td>28</td>\n",
       "      <td>25</td>\n",
       "      <td>23</td>\n",
       "      <td>20</td>\n",
       "      <td>17</td>\n",
       "      <td>18</td>\n",
       "      <td>19</td>\n",
       "      <td>22</td>\n",
       "    </tr>\n",
       "    <tr>\n",
       "      <th>503</th>\n",
       "      <td>2015-02-18 02</td>\n",
       "      <td>2</td>\n",
       "      <td>2</td>\n",
       "      <td>2</td>\n",
       "      <td>0</td>\n",
       "      <td>0</td>\n",
       "      <td>0</td>\n",
       "      <td>0</td>\n",
       "      <td>0</td>\n",
       "      <td>0</td>\n",
       "      <td>...</td>\n",
       "      <td>30</td>\n",
       "      <td>28</td>\n",
       "      <td>25</td>\n",
       "      <td>23</td>\n",
       "      <td>20</td>\n",
       "      <td>17</td>\n",
       "      <td>18</td>\n",
       "      <td>19</td>\n",
       "      <td>22</td>\n",
       "      <td>26</td>\n",
       "    </tr>\n",
       "    <tr>\n",
       "      <th>504</th>\n",
       "      <td>2015-02-18 03</td>\n",
       "      <td>3</td>\n",
       "      <td>2</td>\n",
       "      <td>2</td>\n",
       "      <td>0</td>\n",
       "      <td>0</td>\n",
       "      <td>0</td>\n",
       "      <td>0</td>\n",
       "      <td>0</td>\n",
       "      <td>0</td>\n",
       "      <td>...</td>\n",
       "      <td>28</td>\n",
       "      <td>25</td>\n",
       "      <td>23</td>\n",
       "      <td>20</td>\n",
       "      <td>17</td>\n",
       "      <td>18</td>\n",
       "      <td>19</td>\n",
       "      <td>22</td>\n",
       "      <td>26</td>\n",
       "      <td>29</td>\n",
       "    </tr>\n",
       "    <tr>\n",
       "      <th>505</th>\n",
       "      <td>2015-02-18 04</td>\n",
       "      <td>4</td>\n",
       "      <td>2</td>\n",
       "      <td>2</td>\n",
       "      <td>0</td>\n",
       "      <td>0</td>\n",
       "      <td>0</td>\n",
       "      <td>0</td>\n",
       "      <td>0</td>\n",
       "      <td>0</td>\n",
       "      <td>...</td>\n",
       "      <td>25</td>\n",
       "      <td>23</td>\n",
       "      <td>20</td>\n",
       "      <td>17</td>\n",
       "      <td>18</td>\n",
       "      <td>19</td>\n",
       "      <td>22</td>\n",
       "      <td>26</td>\n",
       "      <td>29</td>\n",
       "      <td>29</td>\n",
       "    </tr>\n",
       "  </tbody>\n",
       "</table>\n",
       "<p>5 rows × 3729 columns</p>\n",
       "</div>"
      ],
      "text/plain": [
       "              date  hour  day  month  isPublicHollyday  isPublicHollyday_-24  \\\n",
       "501  2015-02-18 00     0    2      2                 0                     0   \n",
       "502  2015-02-18 01     1    2      2                 0                     0   \n",
       "503  2015-02-18 02     2    2      2                 0                     0   \n",
       "504  2015-02-18 03     3    2      2                 0                     0   \n",
       "505  2015-02-18 04     4    2      2                 0                     0   \n",
       "\n",
       "     isPublicHollyday_+24  isSundayOrPublicHollyday  \\\n",
       "501                     0                         0   \n",
       "502                     0                         0   \n",
       "503                     0                         0   \n",
       "504                     0                         0   \n",
       "505                     0                         0   \n",
       "\n",
       "     isSundayOrPublicHollyday_-24  isSundayOrPublicHollyday_+24      ...       \\\n",
       "501                             0                             0      ...        \n",
       "502                             0                             0      ...        \n",
       "503                             0                             0      ...        \n",
       "504                             0                             0      ...        \n",
       "505                             0                             0      ...        \n",
       "\n",
       "     PM10_04034_-9  PM10_04034_-8  PM10_04034_-7  PM10_04034_-6  \\\n",
       "501             19             26             30             28   \n",
       "502             26             30             28             25   \n",
       "503             30             28             25             23   \n",
       "504             28             25             23             20   \n",
       "505             25             23             20             17   \n",
       "\n",
       "     PM10_04034_-5  PM10_04034_-4  PM10_04034_-3  PM10_04034_-2  \\\n",
       "501             25             23             20             17   \n",
       "502             23             20             17             18   \n",
       "503             20             17             18             19   \n",
       "504             17             18             19             22   \n",
       "505             18             19             22             26   \n",
       "\n",
       "     PM10_04034_-1  PM10_04034_0  \n",
       "501             18            19  \n",
       "502             19            22  \n",
       "503             22            26  \n",
       "504             26            29  \n",
       "505             29            29  \n",
       "\n",
       "[5 rows x 3729 columns]"
      ]
     },
     "execution_count": 253,
     "metadata": {},
     "output_type": "execute_result"
    }
   ],
   "source": [
    "date_pds =[Xtrain.date.values[i].split(' ')[0] for i in range(len(Xtrain))]\n",
    "bloc = 0\n",
    "def TestDataSpliter(data,bloc,type = \"train\"):\n",
    "    train_index = [i for i in range(len(Xtrain)) if date_pds[i]>=date_train_start[bloc] and date_pds[i]<=date_train_end[bloc] ]\n",
    "    test_index = [i for i in range(len(Xtrain)) if date_pds[i]>=date_test_start[bloc] and date_pds[i]<=date_test_end[bloc] ]\n",
    "    if type == \"train\":\n",
    "        return data.iloc[train_index,:]\n",
    "    if type == \"test\":\n",
    "        return data.iloc[test_index,:]\n",
    "TestDataSpliter(Xtrain,bloc = 0,type = \"test\").head()"
   ]
  },
  {
   "cell_type": "code",
   "execution_count": 218,
   "metadata": {
    "collapsed": false
   },
   "outputs": [
    {
     "data": {
      "text/plain": [
       "'2015-01-28'"
      ]
     },
     "execution_count": 218,
     "metadata": {},
     "output_type": "execute_result"
    }
   ],
   "source": [
    "date_train_start[0]"
   ]
  },
  {
   "cell_type": "code",
   "execution_count": 254,
   "metadata": {
    "collapsed": false
   },
   "outputs": [],
   "source": [
    "X_bloc0 = TestDataSpliter(Xtrain,bloc = 0,type = \"test\")\n",
    "X_bloc1 = TestDataSpliter(Xtrain,bloc = 1,type = \"test\")\n",
    "X_bloc2 = TestDataSpliter(Xtrain,bloc = 2,type = \"test\")\n",
    "X_bloc3 = TestDataSpliter(Xtrain,bloc = 3,type = \"test\")\n",
    "X_bloc4 = TestDataSpliter(Xtrain,bloc = 4,type = \"test\")\n",
    "X_bloc5 = TestDataSpliter(Xtrain,bloc = 5,type = \"test\")\n",
    "X_train_test = pd.concat([X_bloc0,X_bloc1,X_bloc2,X_bloc3,X_bloc4,X_bloc5], axis=0)\n",
    "X_bloc0 = TestDataSpliter(Xtrain,bloc = 0,type = \"train\")\n",
    "X_bloc1 = TestDataSpliter(Xtrain,bloc = 1,type = \"train\")\n",
    "X_bloc2 = TestDataSpliter(Xtrain,bloc = 2,type = \"train\")\n",
    "X_bloc3 = TestDataSpliter(Xtrain,bloc = 3,type = \"train\")\n",
    "X_bloc4 = TestDataSpliter(Xtrain,bloc = 4,type = \"train\")\n",
    "X_bloc5 = TestDataSpliter(Xtrain,bloc = 5,type = \"train\")\n",
    "X_train_train = pd.concat([X_bloc0,X_bloc1,X_bloc2,X_bloc3,X_bloc4,X_bloc5], axis=0)"
   ]
  },
  {
   "cell_type": "code",
   "execution_count": 263,
   "metadata": {
    "collapsed": true
   },
   "outputs": [],
   "source": [
    "Y_bloc0 = TestDataSpliter(Ytrain,bloc = 0,type = \"test\")\n",
    "Y_bloc1 = TestDataSpliter(Ytrain,bloc = 1,type = \"test\")\n",
    "Y_bloc2 = TestDataSpliter(Ytrain,bloc = 2,type = \"test\")\n",
    "Y_bloc3 = TestDataSpliter(Ytrain,bloc = 3,type = \"test\")\n",
    "Y_bloc4 = TestDataSpliter(Ytrain,bloc = 4,type = \"test\")\n",
    "Y_bloc5 = TestDataSpliter(Ytrain,bloc = 5,type = \"test\")\n",
    "Y_train_test = pd.concat([Y_bloc0,Y_bloc1,Y_bloc2,Y_bloc3,Y_bloc4,Y_bloc5], axis=0)\n",
    "Y_bloc0 = TestDataSpliter(Ytrain,bloc = 0,type = \"train\")\n",
    "Y_bloc1 = TestDataSpliter(Ytrain,bloc = 1,type = \"train\")\n",
    "Y_bloc2 = TestDataSpliter(Ytrain,bloc = 2,type = \"train\")\n",
    "Y_bloc3 = TestDataSpliter(Ytrain,bloc = 3,type = \"train\")\n",
    "Y_bloc4 = TestDataSpliter(Ytrain,bloc = 4,type = \"train\")\n",
    "Y_bloc5 = TestDataSpliter(Ytrain,bloc = 5,type = \"train\")\n",
    "Y_train_train = pd.concat([Y_bloc0,Y_bloc1,Y_bloc2,Y_bloc3,Y_bloc4,Y_bloc5], axis=0)"
   ]
  },
  {
   "cell_type": "code",
   "execution_count": 258,
   "metadata": {
    "collapsed": false,
    "scrolled": true
   },
   "outputs": [
    {
     "data": {
      "text/html": [
       "<div>\n",
       "<table border=\"1\" class=\"dataframe\">\n",
       "  <thead>\n",
       "    <tr style=\"text-align: right;\">\n",
       "      <th></th>\n",
       "      <th>date</th>\n",
       "      <th>hour</th>\n",
       "      <th>day</th>\n",
       "      <th>month</th>\n",
       "      <th>isPublicHollyday</th>\n",
       "      <th>isPublicHollyday_-24</th>\n",
       "      <th>isPublicHollyday_+24</th>\n",
       "      <th>isSundayOrPublicHollyday</th>\n",
       "      <th>isSundayOrPublicHollyday_-24</th>\n",
       "      <th>isSundayOrPublicHollyday_+24</th>\n",
       "      <th>...</th>\n",
       "      <th>PM10_04034_-9</th>\n",
       "      <th>PM10_04034_-8</th>\n",
       "      <th>PM10_04034_-7</th>\n",
       "      <th>PM10_04034_-6</th>\n",
       "      <th>PM10_04034_-5</th>\n",
       "      <th>PM10_04034_-4</th>\n",
       "      <th>PM10_04034_-3</th>\n",
       "      <th>PM10_04034_-2</th>\n",
       "      <th>PM10_04034_-1</th>\n",
       "      <th>PM10_04034_0</th>\n",
       "    </tr>\n",
       "  </thead>\n",
       "  <tbody>\n",
       "    <tr>\n",
       "      <th>501</th>\n",
       "      <td>2015-02-18 00</td>\n",
       "      <td>0</td>\n",
       "      <td>2</td>\n",
       "      <td>2</td>\n",
       "      <td>0</td>\n",
       "      <td>0</td>\n",
       "      <td>0</td>\n",
       "      <td>0</td>\n",
       "      <td>0</td>\n",
       "      <td>0</td>\n",
       "      <td>...</td>\n",
       "      <td>19</td>\n",
       "      <td>26</td>\n",
       "      <td>30</td>\n",
       "      <td>28</td>\n",
       "      <td>25</td>\n",
       "      <td>23</td>\n",
       "      <td>20</td>\n",
       "      <td>17</td>\n",
       "      <td>18</td>\n",
       "      <td>19</td>\n",
       "    </tr>\n",
       "    <tr>\n",
       "      <th>502</th>\n",
       "      <td>2015-02-18 01</td>\n",
       "      <td>1</td>\n",
       "      <td>2</td>\n",
       "      <td>2</td>\n",
       "      <td>0</td>\n",
       "      <td>0</td>\n",
       "      <td>0</td>\n",
       "      <td>0</td>\n",
       "      <td>0</td>\n",
       "      <td>0</td>\n",
       "      <td>...</td>\n",
       "      <td>26</td>\n",
       "      <td>30</td>\n",
       "      <td>28</td>\n",
       "      <td>25</td>\n",
       "      <td>23</td>\n",
       "      <td>20</td>\n",
       "      <td>17</td>\n",
       "      <td>18</td>\n",
       "      <td>19</td>\n",
       "      <td>22</td>\n",
       "    </tr>\n",
       "    <tr>\n",
       "      <th>503</th>\n",
       "      <td>2015-02-18 02</td>\n",
       "      <td>2</td>\n",
       "      <td>2</td>\n",
       "      <td>2</td>\n",
       "      <td>0</td>\n",
       "      <td>0</td>\n",
       "      <td>0</td>\n",
       "      <td>0</td>\n",
       "      <td>0</td>\n",
       "      <td>0</td>\n",
       "      <td>...</td>\n",
       "      <td>30</td>\n",
       "      <td>28</td>\n",
       "      <td>25</td>\n",
       "      <td>23</td>\n",
       "      <td>20</td>\n",
       "      <td>17</td>\n",
       "      <td>18</td>\n",
       "      <td>19</td>\n",
       "      <td>22</td>\n",
       "      <td>26</td>\n",
       "    </tr>\n",
       "    <tr>\n",
       "      <th>504</th>\n",
       "      <td>2015-02-18 03</td>\n",
       "      <td>3</td>\n",
       "      <td>2</td>\n",
       "      <td>2</td>\n",
       "      <td>0</td>\n",
       "      <td>0</td>\n",
       "      <td>0</td>\n",
       "      <td>0</td>\n",
       "      <td>0</td>\n",
       "      <td>0</td>\n",
       "      <td>...</td>\n",
       "      <td>28</td>\n",
       "      <td>25</td>\n",
       "      <td>23</td>\n",
       "      <td>20</td>\n",
       "      <td>17</td>\n",
       "      <td>18</td>\n",
       "      <td>19</td>\n",
       "      <td>22</td>\n",
       "      <td>26</td>\n",
       "      <td>29</td>\n",
       "    </tr>\n",
       "    <tr>\n",
       "      <th>505</th>\n",
       "      <td>2015-02-18 04</td>\n",
       "      <td>4</td>\n",
       "      <td>2</td>\n",
       "      <td>2</td>\n",
       "      <td>0</td>\n",
       "      <td>0</td>\n",
       "      <td>0</td>\n",
       "      <td>0</td>\n",
       "      <td>0</td>\n",
       "      <td>0</td>\n",
       "      <td>...</td>\n",
       "      <td>25</td>\n",
       "      <td>23</td>\n",
       "      <td>20</td>\n",
       "      <td>17</td>\n",
       "      <td>18</td>\n",
       "      <td>19</td>\n",
       "      <td>22</td>\n",
       "      <td>26</td>\n",
       "      <td>29</td>\n",
       "      <td>29</td>\n",
       "    </tr>\n",
       "  </tbody>\n",
       "</table>\n",
       "<p>5 rows × 3729 columns</p>\n",
       "</div>"
      ],
      "text/plain": [
       "              date  hour  day  month  isPublicHollyday  isPublicHollyday_-24  \\\n",
       "501  2015-02-18 00     0    2      2                 0                     0   \n",
       "502  2015-02-18 01     1    2      2                 0                     0   \n",
       "503  2015-02-18 02     2    2      2                 0                     0   \n",
       "504  2015-02-18 03     3    2      2                 0                     0   \n",
       "505  2015-02-18 04     4    2      2                 0                     0   \n",
       "\n",
       "     isPublicHollyday_+24  isSundayOrPublicHollyday  \\\n",
       "501                     0                         0   \n",
       "502                     0                         0   \n",
       "503                     0                         0   \n",
       "504                     0                         0   \n",
       "505                     0                         0   \n",
       "\n",
       "     isSundayOrPublicHollyday_-24  isSundayOrPublicHollyday_+24      ...       \\\n",
       "501                             0                             0      ...        \n",
       "502                             0                             0      ...        \n",
       "503                             0                             0      ...        \n",
       "504                             0                             0      ...        \n",
       "505                             0                             0      ...        \n",
       "\n",
       "     PM10_04034_-9  PM10_04034_-8  PM10_04034_-7  PM10_04034_-6  \\\n",
       "501             19             26             30             28   \n",
       "502             26             30             28             25   \n",
       "503             30             28             25             23   \n",
       "504             28             25             23             20   \n",
       "505             25             23             20             17   \n",
       "\n",
       "     PM10_04034_-5  PM10_04034_-4  PM10_04034_-3  PM10_04034_-2  \\\n",
       "501             25             23             20             17   \n",
       "502             23             20             17             18   \n",
       "503             20             17             18             19   \n",
       "504             17             18             19             22   \n",
       "505             18             19             22             26   \n",
       "\n",
       "     PM10_04034_-1  PM10_04034_0  \n",
       "501             18            19  \n",
       "502             19            22  \n",
       "503             22            26  \n",
       "504             26            29  \n",
       "505             29            29  \n",
       "\n",
       "[5 rows x 3729 columns]"
      ]
     },
     "execution_count": 258,
     "metadata": {},
     "output_type": "execute_result"
    }
   ],
   "source": [
    "X_train_test.head()"
   ]
  },
  {
   "cell_type": "code",
   "execution_count": 260,
   "metadata": {
    "collapsed": false
   },
   "outputs": [
    {
     "data": {
      "text/html": [
       "<div>\n",
       "<table border=\"1\" class=\"dataframe\">\n",
       "  <thead>\n",
       "    <tr style=\"text-align: right;\">\n",
       "      <th></th>\n",
       "      <th>date</th>\n",
       "      <th>hour</th>\n",
       "      <th>day</th>\n",
       "      <th>month</th>\n",
       "      <th>isPublicHollyday</th>\n",
       "      <th>isPublicHollyday_-24</th>\n",
       "      <th>isPublicHollyday_+24</th>\n",
       "      <th>isSundayOrPublicHollyday</th>\n",
       "      <th>isSundayOrPublicHollyday_-24</th>\n",
       "      <th>isSundayOrPublicHollyday_+24</th>\n",
       "      <th>...</th>\n",
       "      <th>PM10_04034_-9</th>\n",
       "      <th>PM10_04034_-8</th>\n",
       "      <th>PM10_04034_-7</th>\n",
       "      <th>PM10_04034_-6</th>\n",
       "      <th>PM10_04034_-5</th>\n",
       "      <th>PM10_04034_-4</th>\n",
       "      <th>PM10_04034_-3</th>\n",
       "      <th>PM10_04034_-2</th>\n",
       "      <th>PM10_04034_-1</th>\n",
       "      <th>PM10_04034_0</th>\n",
       "    </tr>\n",
       "  </thead>\n",
       "  <tbody>\n",
       "    <tr>\n",
       "      <th>0</th>\n",
       "      <td>2015-01-28 03</td>\n",
       "      <td>3</td>\n",
       "      <td>2</td>\n",
       "      <td>1</td>\n",
       "      <td>0</td>\n",
       "      <td>0</td>\n",
       "      <td>0</td>\n",
       "      <td>0</td>\n",
       "      <td>0</td>\n",
       "      <td>0</td>\n",
       "      <td>...</td>\n",
       "      <td>23</td>\n",
       "      <td>29.00</td>\n",
       "      <td>31.00</td>\n",
       "      <td>28.00</td>\n",
       "      <td>26.00</td>\n",
       "      <td>24.25</td>\n",
       "      <td>19.428581</td>\n",
       "      <td>19.412934</td>\n",
       "      <td>19</td>\n",
       "      <td>20</td>\n",
       "    </tr>\n",
       "    <tr>\n",
       "      <th>1</th>\n",
       "      <td>2015-01-28 04</td>\n",
       "      <td>4</td>\n",
       "      <td>2</td>\n",
       "      <td>1</td>\n",
       "      <td>0</td>\n",
       "      <td>0</td>\n",
       "      <td>0</td>\n",
       "      <td>0</td>\n",
       "      <td>0</td>\n",
       "      <td>0</td>\n",
       "      <td>...</td>\n",
       "      <td>29</td>\n",
       "      <td>31.00</td>\n",
       "      <td>28.00</td>\n",
       "      <td>26.00</td>\n",
       "      <td>24.25</td>\n",
       "      <td>22.50</td>\n",
       "      <td>19.428581</td>\n",
       "      <td>19.000000</td>\n",
       "      <td>20</td>\n",
       "      <td>20</td>\n",
       "    </tr>\n",
       "    <tr>\n",
       "      <th>2</th>\n",
       "      <td>2015-01-28 05</td>\n",
       "      <td>5</td>\n",
       "      <td>2</td>\n",
       "      <td>1</td>\n",
       "      <td>0</td>\n",
       "      <td>0</td>\n",
       "      <td>0</td>\n",
       "      <td>0</td>\n",
       "      <td>0</td>\n",
       "      <td>0</td>\n",
       "      <td>...</td>\n",
       "      <td>31</td>\n",
       "      <td>28.00</td>\n",
       "      <td>26.00</td>\n",
       "      <td>24.25</td>\n",
       "      <td>22.50</td>\n",
       "      <td>20.75</td>\n",
       "      <td>19.000000</td>\n",
       "      <td>20.000000</td>\n",
       "      <td>20</td>\n",
       "      <td>20</td>\n",
       "    </tr>\n",
       "    <tr>\n",
       "      <th>3</th>\n",
       "      <td>2015-01-28 06</td>\n",
       "      <td>6</td>\n",
       "      <td>2</td>\n",
       "      <td>1</td>\n",
       "      <td>0</td>\n",
       "      <td>0</td>\n",
       "      <td>0</td>\n",
       "      <td>0</td>\n",
       "      <td>0</td>\n",
       "      <td>0</td>\n",
       "      <td>...</td>\n",
       "      <td>28</td>\n",
       "      <td>26.00</td>\n",
       "      <td>24.25</td>\n",
       "      <td>22.50</td>\n",
       "      <td>20.75</td>\n",
       "      <td>19.00</td>\n",
       "      <td>20.000000</td>\n",
       "      <td>20.000000</td>\n",
       "      <td>20</td>\n",
       "      <td>18</td>\n",
       "    </tr>\n",
       "    <tr>\n",
       "      <th>4</th>\n",
       "      <td>2015-01-28 07</td>\n",
       "      <td>7</td>\n",
       "      <td>2</td>\n",
       "      <td>1</td>\n",
       "      <td>0</td>\n",
       "      <td>0</td>\n",
       "      <td>0</td>\n",
       "      <td>0</td>\n",
       "      <td>0</td>\n",
       "      <td>0</td>\n",
       "      <td>...</td>\n",
       "      <td>26</td>\n",
       "      <td>24.25</td>\n",
       "      <td>22.50</td>\n",
       "      <td>20.75</td>\n",
       "      <td>19.00</td>\n",
       "      <td>20.00</td>\n",
       "      <td>20.000000</td>\n",
       "      <td>20.000000</td>\n",
       "      <td>18</td>\n",
       "      <td>15</td>\n",
       "    </tr>\n",
       "  </tbody>\n",
       "</table>\n",
       "<p>5 rows × 3729 columns</p>\n",
       "</div>"
      ],
      "text/plain": [
       "            date  hour  day  month  isPublicHollyday  isPublicHollyday_-24  \\\n",
       "0  2015-01-28 03     3    2      1                 0                     0   \n",
       "1  2015-01-28 04     4    2      1                 0                     0   \n",
       "2  2015-01-28 05     5    2      1                 0                     0   \n",
       "3  2015-01-28 06     6    2      1                 0                     0   \n",
       "4  2015-01-28 07     7    2      1                 0                     0   \n",
       "\n",
       "   isPublicHollyday_+24  isSundayOrPublicHollyday  \\\n",
       "0                     0                         0   \n",
       "1                     0                         0   \n",
       "2                     0                         0   \n",
       "3                     0                         0   \n",
       "4                     0                         0   \n",
       "\n",
       "   isSundayOrPublicHollyday_-24  isSundayOrPublicHollyday_+24      ...       \\\n",
       "0                             0                             0      ...        \n",
       "1                             0                             0      ...        \n",
       "2                             0                             0      ...        \n",
       "3                             0                             0      ...        \n",
       "4                             0                             0      ...        \n",
       "\n",
       "   PM10_04034_-9  PM10_04034_-8  PM10_04034_-7  PM10_04034_-6  PM10_04034_-5  \\\n",
       "0             23          29.00          31.00          28.00          26.00   \n",
       "1             29          31.00          28.00          26.00          24.25   \n",
       "2             31          28.00          26.00          24.25          22.50   \n",
       "3             28          26.00          24.25          22.50          20.75   \n",
       "4             26          24.25          22.50          20.75          19.00   \n",
       "\n",
       "   PM10_04034_-4  PM10_04034_-3  PM10_04034_-2  PM10_04034_-1  PM10_04034_0  \n",
       "0          24.25      19.428581      19.412934             19            20  \n",
       "1          22.50      19.428581      19.000000             20            20  \n",
       "2          20.75      19.000000      20.000000             20            20  \n",
       "3          19.00      20.000000      20.000000             20            18  \n",
       "4          20.00      20.000000      20.000000             18            15  \n",
       "\n",
       "[5 rows x 3729 columns]"
      ]
     },
     "execution_count": 260,
     "metadata": {},
     "output_type": "execute_result"
    }
   ],
   "source": [
    "X_train_train.head()"
   ]
  },
  {
   "cell_type": "code",
   "execution_count": 268,
   "metadata": {
    "collapsed": false
   },
   "outputs": [
    {
     "name": "stdout",
     "output_type": "stream",
     "text": [
      "(3011, 96)\n",
      "(3011, 3729)\n",
      "(1020, 96)\n",
      "(1020, 3729)\n"
     ]
    }
   ],
   "source": [
    "print np.shape(Y_train_train)\n",
    "print np.shape(X_train_train)\n",
    "print np.shape(Y_train_test)\n",
    "print np.shape(X_train_test)"
   ]
  },
  {
   "cell_type": "markdown",
   "metadata": {},
   "source": [
    "## Save train_test data"
   ]
  },
  {
   "cell_type": "code",
   "execution_count": 262,
   "metadata": {
    "collapsed": true
   },
   "outputs": [],
   "source": [
    "X_train_train.to_csv('sample data/' + \"X_train_train.csv\" ,sep = ',',header = True, index = False,encoding ='utf-8')\n",
    "X_train_test.to_csv('sample data/' + \"X_train_test.csv\" ,sep = ',',header = True, index = False,encoding ='utf-8')"
   ]
  },
  {
   "cell_type": "code",
   "execution_count": 269,
   "metadata": {
    "collapsed": true
   },
   "outputs": [],
   "source": [
    "Y_train_train.to_csv('sample data/' + \"Y_train_train.csv\" ,sep = ',',header = True, index = False,encoding ='utf-8')\n",
    "Y_train_test.to_csv('sample data/' + \"Y_train_test.csv\" ,sep = ',',header = True, index = False,encoding ='utf-8')"
   ]
  },
  {
   "cell_type": "markdown",
   "metadata": {},
   "source": [
    "## Lasso"
   ]
  },
  {
   "cell_type": "code",
   "execution_count": 277,
   "metadata": {
    "collapsed": false
   },
   "outputs": [
    {
     "name": "stdout",
     "output_type": "stream",
     "text": [
      "(3011, 24)\n"
     ]
    }
   ],
   "source": [
    "X_NO2_train = DataSample(X_train_train,\"NO2\")\n",
    "X_O3_train = DataSample(X_train_train,\"O3\")\n",
    "#X = pd.DataFrame({X_NO2,X_O3})\n",
    "X_train = pd.concat([X_NO2_train, X_O3_train], axis=1)\n",
    "Y_train = DataSample(Y_train_train,\"NO2\").values\n",
    "\n",
    "X_NO2_test = DataSample(X_train_test,\"NO2\")\n",
    "X_O3_test = DataSample(X_train_test,\"O3\")\n",
    "#X = pd.DataFrame({X_NO2,X_O3})\n",
    "X_test = pd.concat([X_NO2_test, X_O3_test], axis=1)\n",
    "Y_test = DataSample(Y_train_test,\"NO2\").values\n",
    "#print np.shape(Y)"
   ]
  },
  {
   "cell_type": "code",
   "execution_count": 340,
   "metadata": {
    "collapsed": false,
    "scrolled": false
   },
   "outputs": [
    {
     "data": {
      "text/plain": [
       "Lasso(alpha=10, copy_X=True, fit_intercept=True, max_iter=1000,\n",
       "   normalize=False, positive=False, precompute=False, random_state=None,\n",
       "   selection='cyclic', tol=0.0001, warm_start=False)"
      ]
     },
     "execution_count": 340,
     "metadata": {},
     "output_type": "execute_result"
    }
   ],
   "source": [
    "from sklearn import linear_model\n",
    "clf = linear_model.Lasso(alpha=10)\n",
    "clf.fit(Y_train, X_train)\n",
    "\n"
   ]
  },
  {
   "cell_type": "code",
   "execution_count": 341,
   "metadata": {
    "collapsed": false,
    "scrolled": false
   },
   "outputs": [
    {
     "data": {
      "text/plain": [
       "(array([   6.,   26.,   41.,  214.,  120.,   69.,   26.,    9.,    8.,    6.]),\n",
       " array([-0.60235775, -0.44737384, -0.29238993, -0.13740602,  0.01757789,\n",
       "         0.1725618 ,  0.32754571,  0.48252962,  0.63751353,  0.79249744,\n",
       "         0.94748135]),\n",
       " <a list of 10 Patch objects>)"
      ]
     },
     "execution_count": 341,
     "metadata": {},
     "output_type": "execute_result"
    },
    {
     "data": {
      "image/png": "[encoded data removed]",
      "text/plain": [
       "<matplotlib.figure.Figure at 0x11fe14610>"
      ]
     },
     "metadata": {},
     "output_type": "display_data"
    }
   ],
   "source": [
    "plt.figure(figsize = [10,5])\n",
    "hour = 1\n",
    "plt.hist([clf.coef_[i][hour-1] for i in range(np.shape(clf.coef_)[0])], bins = 10)\n",
    "#print(clf.intercept_)\n",
    "#[int(clf.coef_[i][1]!=0) for i in range(np.shape(clf.coef_)[0])]\n",
    "\n"
   ]
  },
  {
   "cell_type": "code",
   "execution_count": 342,
   "metadata": {
    "collapsed": false
   },
   "outputs": [
    {
     "data": {
      "text/html": [
       "<div>\n",
       "<table border=\"1\" class=\"dataframe\">\n",
       "  <thead>\n",
       "    <tr style=\"text-align: right;\">\n",
       "      <th></th>\n",
       "      <th>date</th>\n",
       "      <th>hour</th>\n",
       "      <th>day</th>\n",
       "      <th>month</th>\n",
       "      <th>isPublicHollyday</th>\n",
       "      <th>isPublicHollyday_-24</th>\n",
       "      <th>isPublicHollyday_+24</th>\n",
       "      <th>isSundayOrPublicHollyday</th>\n",
       "      <th>isSundayOrPublicHollyday_-24</th>\n",
       "      <th>isSundayOrPublicHollyday_+24</th>\n",
       "      <th>...</th>\n",
       "      <th>PM10_04034_-9</th>\n",
       "      <th>PM10_04034_-8</th>\n",
       "      <th>PM10_04034_-7</th>\n",
       "      <th>PM10_04034_-6</th>\n",
       "      <th>PM10_04034_-5</th>\n",
       "      <th>PM10_04034_-4</th>\n",
       "      <th>PM10_04034_-3</th>\n",
       "      <th>PM10_04034_-2</th>\n",
       "      <th>PM10_04034_-1</th>\n",
       "      <th>PM10_04034_0</th>\n",
       "    </tr>\n",
       "  </thead>\n",
       "  <tbody>\n",
       "    <tr>\n",
       "      <th>0</th>\n",
       "      <td>2015-01-28 03</td>\n",
       "      <td>3</td>\n",
       "      <td>2</td>\n",
       "      <td>1</td>\n",
       "      <td>0</td>\n",
       "      <td>0</td>\n",
       "      <td>0</td>\n",
       "      <td>0</td>\n",
       "      <td>0</td>\n",
       "      <td>0</td>\n",
       "      <td>...</td>\n",
       "      <td>23</td>\n",
       "      <td>29</td>\n",
       "      <td>31</td>\n",
       "      <td>28</td>\n",
       "      <td>26.00</td>\n",
       "      <td>24.25</td>\n",
       "      <td>19.428581</td>\n",
       "      <td>19.412934</td>\n",
       "      <td>19</td>\n",
       "      <td>20</td>\n",
       "    </tr>\n",
       "    <tr>\n",
       "      <th>1</th>\n",
       "      <td>2015-01-28 04</td>\n",
       "      <td>4</td>\n",
       "      <td>2</td>\n",
       "      <td>1</td>\n",
       "      <td>0</td>\n",
       "      <td>0</td>\n",
       "      <td>0</td>\n",
       "      <td>0</td>\n",
       "      <td>0</td>\n",
       "      <td>0</td>\n",
       "      <td>...</td>\n",
       "      <td>29</td>\n",
       "      <td>31</td>\n",
       "      <td>28</td>\n",
       "      <td>26</td>\n",
       "      <td>24.25</td>\n",
       "      <td>22.50</td>\n",
       "      <td>19.428581</td>\n",
       "      <td>19.000000</td>\n",
       "      <td>20</td>\n",
       "      <td>20</td>\n",
       "    </tr>\n",
       "    <tr>\n",
       "      <th>1</th>\n",
       "      <td>2015-01-28 04</td>\n",
       "      <td>4</td>\n",
       "      <td>2</td>\n",
       "      <td>1</td>\n",
       "      <td>0</td>\n",
       "      <td>0</td>\n",
       "      <td>0</td>\n",
       "      <td>0</td>\n",
       "      <td>0</td>\n",
       "      <td>0</td>\n",
       "      <td>...</td>\n",
       "      <td>29</td>\n",
       "      <td>31</td>\n",
       "      <td>28</td>\n",
       "      <td>26</td>\n",
       "      <td>24.25</td>\n",
       "      <td>22.50</td>\n",
       "      <td>19.428581</td>\n",
       "      <td>19.000000</td>\n",
       "      <td>20</td>\n",
       "      <td>20</td>\n",
       "    </tr>\n",
       "    <tr>\n",
       "      <th>1</th>\n",
       "      <td>2015-01-28 04</td>\n",
       "      <td>4</td>\n",
       "      <td>2</td>\n",
       "      <td>1</td>\n",
       "      <td>0</td>\n",
       "      <td>0</td>\n",
       "      <td>0</td>\n",
       "      <td>0</td>\n",
       "      <td>0</td>\n",
       "      <td>0</td>\n",
       "      <td>...</td>\n",
       "      <td>29</td>\n",
       "      <td>31</td>\n",
       "      <td>28</td>\n",
       "      <td>26</td>\n",
       "      <td>24.25</td>\n",
       "      <td>22.50</td>\n",
       "      <td>19.428581</td>\n",
       "      <td>19.000000</td>\n",
       "      <td>20</td>\n",
       "      <td>20</td>\n",
       "    </tr>\n",
       "    <tr>\n",
       "      <th>0</th>\n",
       "      <td>2015-01-28 03</td>\n",
       "      <td>3</td>\n",
       "      <td>2</td>\n",
       "      <td>1</td>\n",
       "      <td>0</td>\n",
       "      <td>0</td>\n",
       "      <td>0</td>\n",
       "      <td>0</td>\n",
       "      <td>0</td>\n",
       "      <td>0</td>\n",
       "      <td>...</td>\n",
       "      <td>23</td>\n",
       "      <td>29</td>\n",
       "      <td>31</td>\n",
       "      <td>28</td>\n",
       "      <td>26.00</td>\n",
       "      <td>24.25</td>\n",
       "      <td>19.428581</td>\n",
       "      <td>19.412934</td>\n",
       "      <td>19</td>\n",
       "      <td>20</td>\n",
       "    </tr>\n",
       "  </tbody>\n",
       "</table>\n",
       "<p>5 rows × 3729 columns</p>\n",
       "</div>"
      ],
      "text/plain": [
       "            date  hour  day  month  isPublicHollyday  isPublicHollyday_-24  \\\n",
       "0  2015-01-28 03     3    2      1                 0                     0   \n",
       "1  2015-01-28 04     4    2      1                 0                     0   \n",
       "1  2015-01-28 04     4    2      1                 0                     0   \n",
       "1  2015-01-28 04     4    2      1                 0                     0   \n",
       "0  2015-01-28 03     3    2      1                 0                     0   \n",
       "\n",
       "   isPublicHollyday_+24  isSundayOrPublicHollyday  \\\n",
       "0                     0                         0   \n",
       "1                     0                         0   \n",
       "1                     0                         0   \n",
       "1                     0                         0   \n",
       "0                     0                         0   \n",
       "\n",
       "   isSundayOrPublicHollyday_-24  isSundayOrPublicHollyday_+24      ...       \\\n",
       "0                             0                             0      ...        \n",
       "1                             0                             0      ...        \n",
       "1                             0                             0      ...        \n",
       "1                             0                             0      ...        \n",
       "0                             0                             0      ...        \n",
       "\n",
       "   PM10_04034_-9  PM10_04034_-8  PM10_04034_-7  PM10_04034_-6  PM10_04034_-5  \\\n",
       "0             23             29             31             28          26.00   \n",
       "1             29             31             28             26          24.25   \n",
       "1             29             31             28             26          24.25   \n",
       "1             29             31             28             26          24.25   \n",
       "0             23             29             31             28          26.00   \n",
       "\n",
       "   PM10_04034_-4  PM10_04034_-3  PM10_04034_-2  PM10_04034_-1  PM10_04034_0  \n",
       "0          24.25      19.428581      19.412934             19            20  \n",
       "1          22.50      19.428581      19.000000             20            20  \n",
       "1          22.50      19.428581      19.000000             20            20  \n",
       "1          22.50      19.428581      19.000000             20            20  \n",
       "0          24.25      19.428581      19.412934             19            20  \n",
       "\n",
       "[5 rows x 3729 columns]"
      ]
     },
     "execution_count": 342,
     "metadata": {},
     "output_type": "execute_result"
    }
   ],
   "source": [
    "Xtrain.iloc[[int(clf.coef_[i][1]!=0) for i in range(np.shape(clf.coef_)[0])]].head()"
   ]
  },
  {
   "cell_type": "code",
   "execution_count": 375,
   "metadata": {
    "collapsed": false
   },
   "outputs": [],
   "source": [
    "hour = 10\n",
    "a=pd.Series([int(clf.coef_[i][hour-1]!=0) for i in range(np.shape(clf.coef_)[0])])\n",
    "\n",
    "X_lasso = X_train.loc[:,a.values != 0]\n",
    "Y_hour = Y_train[:,hour-1]\n",
    "X_lasso_test = X_test.loc[:,a.values != 0]\n",
    "Y_hour_test = Y_test[:,hour-1]\n"
   ]
  },
  {
   "cell_type": "code",
   "execution_count": 376,
   "metadata": {
    "collapsed": false
   },
   "outputs": [
    {
     "name": "stdout",
     "output_type": "stream",
     "text": [
      "MSE = 210.588975928\n",
      "\n",
      "R2 = 0.211640092507\n",
      "\n"
     ]
    }
   ],
   "source": [
    "from sklearn import linear_model\n",
    "lm = linear_model.LinearRegression()\n",
    "lm.fit(X_lasso,Y_hour)\n",
    "MSE = np.mean((Y_hour_test - lm.predict(X_lasso_test)) ** 2)\n",
    "R2 = lm.score(X_lasso_test,Y_hour_test)\n",
    "print 'MSE = ' + str(MSE) + '\\n'\n",
    "print 'R2 = ' + str(R2) + '\\n'"
   ]
  },
  {
   "cell_type": "code",
   "execution_count": 377,
   "metadata": {
    "collapsed": false
   },
   "outputs": [
    {
     "name": "stdout",
     "output_type": "stream",
     "text": [
      "MSE = 234.850552579\n",
      "\n",
      "R2 = 0.120814567382\n",
      "\n"
     ]
    }
   ],
   "source": [
    "lm = linear_model.LinearRegression()\n",
    "lm.fit(X_train,Y_hour)\n",
    "MSE = np.mean((Y_hour_test - lm.predict(X_test)) ** 2)\n",
    "R2 = lm.score(X_test,Y_hour_test)\n",
    "print 'MSE = ' + str(MSE) + '\\n'\n",
    "print 'R2 = ' + str(R2) + '\\n'"
   ]
  },
  {
   "cell_type": "code",
   "execution_count": 378,
   "metadata": {
    "collapsed": false
   },
   "outputs": [
    {
     "name": "stdout",
     "output_type": "stream",
     "text": [
      "525\n",
      "174\n"
     ]
    }
   ],
   "source": [
    "print np.shape(X_train)[1]\n",
    "print np.shape(X_lasso)[1]"
   ]
  },
  {
   "cell_type": "code",
   "execution_count": null,
   "metadata": {
    "collapsed": true
   },
   "outputs": [],
   "source": []
  },
  {
   "cell_type": "code",
   "execution_count": null,
   "metadata": {
    "collapsed": true
   },
   "outputs": [],
   "source": []
  }
 ],
 "metadata": {
  "kernelspec": {
   "display_name": "Python 2",
   "language": "python",
   "name": "python2"
  },
  "language_info": {
   "codemirror_mode": {
    "name": "ipython",
    "version": 2
   },
   "file_extension": ".py",
   "mimetype": "text/x-python",
   "name": "python",
   "nbconvert_exporter": "python",
   "pygments_lexer": "ipython2",
   "version": "2.7.11"
  }
 },
 "nbformat": 4,
 "nbformat_minor": 0
}
