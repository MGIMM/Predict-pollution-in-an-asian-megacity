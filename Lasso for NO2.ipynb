{
 "cells": [
  {
   "cell_type": "code",
   "execution_count": 2,
   "metadata": {
    "collapsed": false
   },
   "outputs": [
    {
     "name": "stderr",
     "output_type": "stream",
     "text": [
      "/Users/duqiming2004/anaconda/lib/python2.7/site-packages/matplotlib/__init__.py:872: UserWarning: axes.color_cycle is deprecated and replaced with axes.prop_cycle; please use the latter.\n",
      "  warnings.warn(self.msg_depr % (key, alt_key))\n"
     ]
    }
   ],
   "source": [
    "import pandas as pd\n",
    "import numpy as np\n",
    "from matplotlib import pyplot as plt\n",
    "from PLUME_function import *\n",
    "import seaborn as sns\n",
    "%matplotlib inline\n",
    "\n",
    "from sklearn import linear_model"
   ]
  },
  {
   "cell_type": "markdown",
   "metadata": {},
   "source": [
    "## Data importing"
   ]
  },
  {
   "cell_type": "code",
   "execution_count": 3,
   "metadata": {
    "collapsed": true
   },
   "outputs": [],
   "source": [
    "Xtrain,Ytrain,Xtest,VarNames = DataImporting()"
   ]
  },
  {
   "cell_type": "markdown",
   "metadata": {},
   "source": [
    "## Creation of the train & test data."
   ]
  },
  {
   "cell_type": "code",
   "execution_count": 4,
   "metadata": {
    "collapsed": false
   },
   "outputs": [],
   "source": [
    "date_train_list = sorted(list(set([DataSample(Xtrain,\"NO2\",keep_date= True).date.values[i].split(' ')[0] for i in range(4031)])))"
   ]
  },
  {
   "cell_type": "code",
   "execution_count": 5,
   "metadata": {
    "collapsed": false
   },
   "outputs": [
    {
     "data": {
      "text/plain": [
       "28"
      ]
     },
     "execution_count": 5,
     "metadata": {},
     "output_type": "execute_result"
    }
   ],
   "source": [
    "start = '2015-03-08'\n",
    "end = '2015-04-05'\n",
    "date_train_list.index(end) - date_train_list.index(start)"
   ]
  },
  {
   "cell_type": "markdown",
   "metadata": {},
   "source": [
    "Alors, on va prendre 21 jours pour l'apprendissage et 8 jours pour le test."
   ]
  },
  {
   "cell_type": "code",
   "execution_count": 6,
   "metadata": {
    "collapsed": false
   },
   "outputs": [
    {
     "name": "stdout",
     "output_type": "stream",
     "text": [
      "['2015-01-28', '2015-03-08', '2015-04-16', '2015-05-25', '2015-07-03', '2015-08-11']\n",
      "['2015-02-17', '2015-03-28', '2015-05-06', '2015-06-14', '2015-07-23', '2015-08-31']\n",
      "['2015-02-18', '2015-03-29', '2015-05-07', '2015-06-15', '2015-07-24', '2015-09-01']\n",
      "['2015-02-25', '2015-04-05', '2015-05-14', '2015-06-22', '2015-07-31', '2015-09-08']\n"
     ]
    }
   ],
   "source": [
    "date_train_end = [date_train_list[i] for i in range(20,len(date_train_list),29)]\n",
    "date_train_start = [date_train_list[i] for i in range(0,len(date_train_list),29)]\n",
    "print date_train_start\n",
    "print date_train_end\n",
    "date_test_end = [date_train_list[i] for i in range(28,len(date_train_list),29)]\n",
    "date_test_start = [date_train_list[i] for i in range(21,len(date_train_list),29)]\n",
    "print date_test_start\n",
    "print date_test_end"
   ]
  },
  {
   "cell_type": "code",
   "execution_count": 7,
   "metadata": {
    "collapsed": false,
    "scrolled": true
   },
   "outputs": [
    {
     "data": {
      "text/html": [
       "<div>\n",
       "<table border=\"1\" class=\"dataframe\">\n",
       "  <thead>\n",
       "    <tr style=\"text-align: right;\">\n",
       "      <th></th>\n",
       "      <th>date</th>\n",
       "      <th>hour</th>\n",
       "      <th>day</th>\n",
       "      <th>month</th>\n",
       "      <th>isPublicHollyday</th>\n",
       "      <th>isPublicHollyday_-24</th>\n",
       "      <th>isPublicHollyday_+24</th>\n",
       "      <th>isSundayOrPublicHollyday</th>\n",
       "      <th>isSundayOrPublicHollyday_-24</th>\n",
       "      <th>isSundayOrPublicHollyday_+24</th>\n",
       "      <th>...</th>\n",
       "      <th>PM10_04034_-9</th>\n",
       "      <th>PM10_04034_-8</th>\n",
       "      <th>PM10_04034_-7</th>\n",
       "      <th>PM10_04034_-6</th>\n",
       "      <th>PM10_04034_-5</th>\n",
       "      <th>PM10_04034_-4</th>\n",
       "      <th>PM10_04034_-3</th>\n",
       "      <th>PM10_04034_-2</th>\n",
       "      <th>PM10_04034_-1</th>\n",
       "      <th>PM10_04034_0</th>\n",
       "    </tr>\n",
       "  </thead>\n",
       "  <tbody>\n",
       "    <tr>\n",
       "      <th>501</th>\n",
       "      <td>2015-02-18 00</td>\n",
       "      <td>0</td>\n",
       "      <td>2</td>\n",
       "      <td>2</td>\n",
       "      <td>0</td>\n",
       "      <td>0</td>\n",
       "      <td>0</td>\n",
       "      <td>0</td>\n",
       "      <td>0</td>\n",
       "      <td>0</td>\n",
       "      <td>...</td>\n",
       "      <td>19</td>\n",
       "      <td>26</td>\n",
       "      <td>30</td>\n",
       "      <td>28</td>\n",
       "      <td>25</td>\n",
       "      <td>23</td>\n",
       "      <td>20</td>\n",
       "      <td>17</td>\n",
       "      <td>18</td>\n",
       "      <td>19</td>\n",
       "    </tr>\n",
       "    <tr>\n",
       "      <th>502</th>\n",
       "      <td>2015-02-18 01</td>\n",
       "      <td>1</td>\n",
       "      <td>2</td>\n",
       "      <td>2</td>\n",
       "      <td>0</td>\n",
       "      <td>0</td>\n",
       "      <td>0</td>\n",
       "      <td>0</td>\n",
       "      <td>0</td>\n",
       "      <td>0</td>\n",
       "      <td>...</td>\n",
       "      <td>26</td>\n",
       "      <td>30</td>\n",
       "      <td>28</td>\n",
       "      <td>25</td>\n",
       "      <td>23</td>\n",
       "      <td>20</td>\n",
       "      <td>17</td>\n",
       "      <td>18</td>\n",
       "      <td>19</td>\n",
       "      <td>22</td>\n",
       "    </tr>\n",
       "    <tr>\n",
       "      <th>503</th>\n",
       "      <td>2015-02-18 02</td>\n",
       "      <td>2</td>\n",
       "      <td>2</td>\n",
       "      <td>2</td>\n",
       "      <td>0</td>\n",
       "      <td>0</td>\n",
       "      <td>0</td>\n",
       "      <td>0</td>\n",
       "      <td>0</td>\n",
       "      <td>0</td>\n",
       "      <td>...</td>\n",
       "      <td>30</td>\n",
       "      <td>28</td>\n",
       "      <td>25</td>\n",
       "      <td>23</td>\n",
       "      <td>20</td>\n",
       "      <td>17</td>\n",
       "      <td>18</td>\n",
       "      <td>19</td>\n",
       "      <td>22</td>\n",
       "      <td>26</td>\n",
       "    </tr>\n",
       "    <tr>\n",
       "      <th>504</th>\n",
       "      <td>2015-02-18 03</td>\n",
       "      <td>3</td>\n",
       "      <td>2</td>\n",
       "      <td>2</td>\n",
       "      <td>0</td>\n",
       "      <td>0</td>\n",
       "      <td>0</td>\n",
       "      <td>0</td>\n",
       "      <td>0</td>\n",
       "      <td>0</td>\n",
       "      <td>...</td>\n",
       "      <td>28</td>\n",
       "      <td>25</td>\n",
       "      <td>23</td>\n",
       "      <td>20</td>\n",
       "      <td>17</td>\n",
       "      <td>18</td>\n",
       "      <td>19</td>\n",
       "      <td>22</td>\n",
       "      <td>26</td>\n",
       "      <td>29</td>\n",
       "    </tr>\n",
       "    <tr>\n",
       "      <th>505</th>\n",
       "      <td>2015-02-18 04</td>\n",
       "      <td>4</td>\n",
       "      <td>2</td>\n",
       "      <td>2</td>\n",
       "      <td>0</td>\n",
       "      <td>0</td>\n",
       "      <td>0</td>\n",
       "      <td>0</td>\n",
       "      <td>0</td>\n",
       "      <td>0</td>\n",
       "      <td>...</td>\n",
       "      <td>25</td>\n",
       "      <td>23</td>\n",
       "      <td>20</td>\n",
       "      <td>17</td>\n",
       "      <td>18</td>\n",
       "      <td>19</td>\n",
       "      <td>22</td>\n",
       "      <td>26</td>\n",
       "      <td>29</td>\n",
       "      <td>29</td>\n",
       "    </tr>\n",
       "  </tbody>\n",
       "</table>\n",
       "<p>5 rows × 3729 columns</p>\n",
       "</div>"
      ],
      "text/plain": [
       "              date  hour  day  month  isPublicHollyday  isPublicHollyday_-24  \\\n",
       "501  2015-02-18 00     0    2      2                 0                     0   \n",
       "502  2015-02-18 01     1    2      2                 0                     0   \n",
       "503  2015-02-18 02     2    2      2                 0                     0   \n",
       "504  2015-02-18 03     3    2      2                 0                     0   \n",
       "505  2015-02-18 04     4    2      2                 0                     0   \n",
       "\n",
       "     isPublicHollyday_+24  isSundayOrPublicHollyday  \\\n",
       "501                     0                         0   \n",
       "502                     0                         0   \n",
       "503                     0                         0   \n",
       "504                     0                         0   \n",
       "505                     0                         0   \n",
       "\n",
       "     isSundayOrPublicHollyday_-24  isSundayOrPublicHollyday_+24      ...       \\\n",
       "501                             0                             0      ...        \n",
       "502                             0                             0      ...        \n",
       "503                             0                             0      ...        \n",
       "504                             0                             0      ...        \n",
       "505                             0                             0      ...        \n",
       "\n",
       "     PM10_04034_-9  PM10_04034_-8  PM10_04034_-7  PM10_04034_-6  \\\n",
       "501             19             26             30             28   \n",
       "502             26             30             28             25   \n",
       "503             30             28             25             23   \n",
       "504             28             25             23             20   \n",
       "505             25             23             20             17   \n",
       "\n",
       "     PM10_04034_-5  PM10_04034_-4  PM10_04034_-3  PM10_04034_-2  \\\n",
       "501             25             23             20             17   \n",
       "502             23             20             17             18   \n",
       "503             20             17             18             19   \n",
       "504             17             18             19             22   \n",
       "505             18             19             22             26   \n",
       "\n",
       "     PM10_04034_-1  PM10_04034_0  \n",
       "501             18            19  \n",
       "502             19            22  \n",
       "503             22            26  \n",
       "504             26            29  \n",
       "505             29            29  \n",
       "\n",
       "[5 rows x 3729 columns]"
      ]
     },
     "execution_count": 7,
     "metadata": {},
     "output_type": "execute_result"
    }
   ],
   "source": [
    "date_pds =[Xtrain.date.values[i].split(' ')[0] for i in range(len(Xtrain))]\n",
    "bloc = 0\n",
    "def TestDataSpliter(data,bloc,type = \"train\"):\n",
    "    train_index = [i for i in range(len(Xtrain)) if date_pds[i]>=date_train_start[bloc] and date_pds[i]<=date_train_end[bloc] ]\n",
    "    test_index = [i for i in range(len(Xtrain)) if date_pds[i]>=date_test_start[bloc] and date_pds[i]<=date_test_end[bloc] ]\n",
    "    if type == \"train\":\n",
    "        return data.iloc[train_index,:]\n",
    "    if type == \"test\":\n",
    "        return data.iloc[test_index,:]\n",
    "TestDataSpliter(Xtrain,bloc = 0,type = \"test\").head()"
   ]
  },
  {
   "cell_type": "code",
   "execution_count": 8,
   "metadata": {
    "collapsed": false
   },
   "outputs": [
    {
     "data": {
      "text/plain": [
       "'2015-01-28'"
      ]
     },
     "execution_count": 8,
     "metadata": {},
     "output_type": "execute_result"
    }
   ],
   "source": [
    "date_train_start[0]"
   ]
  },
  {
   "cell_type": "code",
   "execution_count": 9,
   "metadata": {
    "collapsed": false
   },
   "outputs": [],
   "source": [
    "X_bloc0 = TestDataSpliter(Xtrain,bloc = 0,type = \"test\")\n",
    "X_bloc1 = TestDataSpliter(Xtrain,bloc = 1,type = \"test\")\n",
    "X_bloc2 = TestDataSpliter(Xtrain,bloc = 2,type = \"test\")\n",
    "X_bloc3 = TestDataSpliter(Xtrain,bloc = 3,type = \"test\")\n",
    "X_bloc4 = TestDataSpliter(Xtrain,bloc = 4,type = \"test\")\n",
    "X_bloc5 = TestDataSpliter(Xtrain,bloc = 5,type = \"test\")\n",
    "X_train_test = pd.concat([X_bloc0,X_bloc1,X_bloc2,X_bloc3,X_bloc4,X_bloc5], axis=0)\n",
    "X_bloc0 = TestDataSpliter(Xtrain,bloc = 0,type = \"train\")\n",
    "X_bloc1 = TestDataSpliter(Xtrain,bloc = 1,type = \"train\")\n",
    "X_bloc2 = TestDataSpliter(Xtrain,bloc = 2,type = \"train\")\n",
    "X_bloc3 = TestDataSpliter(Xtrain,bloc = 3,type = \"train\")\n",
    "X_bloc4 = TestDataSpliter(Xtrain,bloc = 4,type = \"train\")\n",
    "X_bloc5 = TestDataSpliter(Xtrain,bloc = 5,type = \"train\")\n",
    "X_train_train = pd.concat([X_bloc0,X_bloc1,X_bloc2,X_bloc3,X_bloc4,X_bloc5], axis=0)"
   ]
  },
  {
   "cell_type": "code",
   "execution_count": 10,
   "metadata": {
    "collapsed": true
   },
   "outputs": [],
   "source": [
    "Y_bloc0 = TestDataSpliter(Ytrain,bloc = 0,type = \"test\")\n",
    "Y_bloc1 = TestDataSpliter(Ytrain,bloc = 1,type = \"test\")\n",
    "Y_bloc2 = TestDataSpliter(Ytrain,bloc = 2,type = \"test\")\n",
    "Y_bloc3 = TestDataSpliter(Ytrain,bloc = 3,type = \"test\")\n",
    "Y_bloc4 = TestDataSpliter(Ytrain,bloc = 4,type = \"test\")\n",
    "Y_bloc5 = TestDataSpliter(Ytrain,bloc = 5,type = \"test\")\n",
    "Y_train_test = pd.concat([Y_bloc0,Y_bloc1,Y_bloc2,Y_bloc3,Y_bloc4,Y_bloc5], axis=0)\n",
    "Y_bloc0 = TestDataSpliter(Ytrain,bloc = 0,type = \"train\")\n",
    "Y_bloc1 = TestDataSpliter(Ytrain,bloc = 1,type = \"train\")\n",
    "Y_bloc2 = TestDataSpliter(Ytrain,bloc = 2,type = \"train\")\n",
    "Y_bloc3 = TestDataSpliter(Ytrain,bloc = 3,type = \"train\")\n",
    "Y_bloc4 = TestDataSpliter(Ytrain,bloc = 4,type = \"train\")\n",
    "Y_bloc5 = TestDataSpliter(Ytrain,bloc = 5,type = \"train\")\n",
    "Y_train_train = pd.concat([Y_bloc0,Y_bloc1,Y_bloc2,Y_bloc3,Y_bloc4,Y_bloc5], axis=0)"
   ]
  },
  {
   "cell_type": "code",
   "execution_count": 11,
   "metadata": {
    "collapsed": false,
    "scrolled": true
   },
   "outputs": [
    {
     "data": {
      "text/html": [
       "<div>\n",
       "<table border=\"1\" class=\"dataframe\">\n",
       "  <thead>\n",
       "    <tr style=\"text-align: right;\">\n",
       "      <th></th>\n",
       "      <th>date</th>\n",
       "      <th>hour</th>\n",
       "      <th>day</th>\n",
       "      <th>month</th>\n",
       "      <th>isPublicHollyday</th>\n",
       "      <th>isPublicHollyday_-24</th>\n",
       "      <th>isPublicHollyday_+24</th>\n",
       "      <th>isSundayOrPublicHollyday</th>\n",
       "      <th>isSundayOrPublicHollyday_-24</th>\n",
       "      <th>isSundayOrPublicHollyday_+24</th>\n",
       "      <th>...</th>\n",
       "      <th>PM10_04034_-9</th>\n",
       "      <th>PM10_04034_-8</th>\n",
       "      <th>PM10_04034_-7</th>\n",
       "      <th>PM10_04034_-6</th>\n",
       "      <th>PM10_04034_-5</th>\n",
       "      <th>PM10_04034_-4</th>\n",
       "      <th>PM10_04034_-3</th>\n",
       "      <th>PM10_04034_-2</th>\n",
       "      <th>PM10_04034_-1</th>\n",
       "      <th>PM10_04034_0</th>\n",
       "    </tr>\n",
       "  </thead>\n",
       "  <tbody>\n",
       "    <tr>\n",
       "      <th>501</th>\n",
       "      <td>2015-02-18 00</td>\n",
       "      <td>0</td>\n",
       "      <td>2</td>\n",
       "      <td>2</td>\n",
       "      <td>0</td>\n",
       "      <td>0</td>\n",
       "      <td>0</td>\n",
       "      <td>0</td>\n",
       "      <td>0</td>\n",
       "      <td>0</td>\n",
       "      <td>...</td>\n",
       "      <td>19</td>\n",
       "      <td>26</td>\n",
       "      <td>30</td>\n",
       "      <td>28</td>\n",
       "      <td>25</td>\n",
       "      <td>23</td>\n",
       "      <td>20</td>\n",
       "      <td>17</td>\n",
       "      <td>18</td>\n",
       "      <td>19</td>\n",
       "    </tr>\n",
       "    <tr>\n",
       "      <th>502</th>\n",
       "      <td>2015-02-18 01</td>\n",
       "      <td>1</td>\n",
       "      <td>2</td>\n",
       "      <td>2</td>\n",
       "      <td>0</td>\n",
       "      <td>0</td>\n",
       "      <td>0</td>\n",
       "      <td>0</td>\n",
       "      <td>0</td>\n",
       "      <td>0</td>\n",
       "      <td>...</td>\n",
       "      <td>26</td>\n",
       "      <td>30</td>\n",
       "      <td>28</td>\n",
       "      <td>25</td>\n",
       "      <td>23</td>\n",
       "      <td>20</td>\n",
       "      <td>17</td>\n",
       "      <td>18</td>\n",
       "      <td>19</td>\n",
       "      <td>22</td>\n",
       "    </tr>\n",
       "    <tr>\n",
       "      <th>503</th>\n",
       "      <td>2015-02-18 02</td>\n",
       "      <td>2</td>\n",
       "      <td>2</td>\n",
       "      <td>2</td>\n",
       "      <td>0</td>\n",
       "      <td>0</td>\n",
       "      <td>0</td>\n",
       "      <td>0</td>\n",
       "      <td>0</td>\n",
       "      <td>0</td>\n",
       "      <td>...</td>\n",
       "      <td>30</td>\n",
       "      <td>28</td>\n",
       "      <td>25</td>\n",
       "      <td>23</td>\n",
       "      <td>20</td>\n",
       "      <td>17</td>\n",
       "      <td>18</td>\n",
       "      <td>19</td>\n",
       "      <td>22</td>\n",
       "      <td>26</td>\n",
       "    </tr>\n",
       "    <tr>\n",
       "      <th>504</th>\n",
       "      <td>2015-02-18 03</td>\n",
       "      <td>3</td>\n",
       "      <td>2</td>\n",
       "      <td>2</td>\n",
       "      <td>0</td>\n",
       "      <td>0</td>\n",
       "      <td>0</td>\n",
       "      <td>0</td>\n",
       "      <td>0</td>\n",
       "      <td>0</td>\n",
       "      <td>...</td>\n",
       "      <td>28</td>\n",
       "      <td>25</td>\n",
       "      <td>23</td>\n",
       "      <td>20</td>\n",
       "      <td>17</td>\n",
       "      <td>18</td>\n",
       "      <td>19</td>\n",
       "      <td>22</td>\n",
       "      <td>26</td>\n",
       "      <td>29</td>\n",
       "    </tr>\n",
       "    <tr>\n",
       "      <th>505</th>\n",
       "      <td>2015-02-18 04</td>\n",
       "      <td>4</td>\n",
       "      <td>2</td>\n",
       "      <td>2</td>\n",
       "      <td>0</td>\n",
       "      <td>0</td>\n",
       "      <td>0</td>\n",
       "      <td>0</td>\n",
       "      <td>0</td>\n",
       "      <td>0</td>\n",
       "      <td>...</td>\n",
       "      <td>25</td>\n",
       "      <td>23</td>\n",
       "      <td>20</td>\n",
       "      <td>17</td>\n",
       "      <td>18</td>\n",
       "      <td>19</td>\n",
       "      <td>22</td>\n",
       "      <td>26</td>\n",
       "      <td>29</td>\n",
       "      <td>29</td>\n",
       "    </tr>\n",
       "  </tbody>\n",
       "</table>\n",
       "<p>5 rows × 3729 columns</p>\n",
       "</div>"
      ],
      "text/plain": [
       "              date  hour  day  month  isPublicHollyday  isPublicHollyday_-24  \\\n",
       "501  2015-02-18 00     0    2      2                 0                     0   \n",
       "502  2015-02-18 01     1    2      2                 0                     0   \n",
       "503  2015-02-18 02     2    2      2                 0                     0   \n",
       "504  2015-02-18 03     3    2      2                 0                     0   \n",
       "505  2015-02-18 04     4    2      2                 0                     0   \n",
       "\n",
       "     isPublicHollyday_+24  isSundayOrPublicHollyday  \\\n",
       "501                     0                         0   \n",
       "502                     0                         0   \n",
       "503                     0                         0   \n",
       "504                     0                         0   \n",
       "505                     0                         0   \n",
       "\n",
       "     isSundayOrPublicHollyday_-24  isSundayOrPublicHollyday_+24      ...       \\\n",
       "501                             0                             0      ...        \n",
       "502                             0                             0      ...        \n",
       "503                             0                             0      ...        \n",
       "504                             0                             0      ...        \n",
       "505                             0                             0      ...        \n",
       "\n",
       "     PM10_04034_-9  PM10_04034_-8  PM10_04034_-7  PM10_04034_-6  \\\n",
       "501             19             26             30             28   \n",
       "502             26             30             28             25   \n",
       "503             30             28             25             23   \n",
       "504             28             25             23             20   \n",
       "505             25             23             20             17   \n",
       "\n",
       "     PM10_04034_-5  PM10_04034_-4  PM10_04034_-3  PM10_04034_-2  \\\n",
       "501             25             23             20             17   \n",
       "502             23             20             17             18   \n",
       "503             20             17             18             19   \n",
       "504             17             18             19             22   \n",
       "505             18             19             22             26   \n",
       "\n",
       "     PM10_04034_-1  PM10_04034_0  \n",
       "501             18            19  \n",
       "502             19            22  \n",
       "503             22            26  \n",
       "504             26            29  \n",
       "505             29            29  \n",
       "\n",
       "[5 rows x 3729 columns]"
      ]
     },
     "execution_count": 11,
     "metadata": {},
     "output_type": "execute_result"
    }
   ],
   "source": [
    "X_train_test.head()"
   ]
  },
  {
   "cell_type": "code",
   "execution_count": 12,
   "metadata": {
    "collapsed": false
   },
   "outputs": [
    {
     "data": {
      "text/html": [
       "<div>\n",
       "<table border=\"1\" class=\"dataframe\">\n",
       "  <thead>\n",
       "    <tr style=\"text-align: right;\">\n",
       "      <th></th>\n",
       "      <th>date</th>\n",
       "      <th>hour</th>\n",
       "      <th>day</th>\n",
       "      <th>month</th>\n",
       "      <th>isPublicHollyday</th>\n",
       "      <th>isPublicHollyday_-24</th>\n",
       "      <th>isPublicHollyday_+24</th>\n",
       "      <th>isSundayOrPublicHollyday</th>\n",
       "      <th>isSundayOrPublicHollyday_-24</th>\n",
       "      <th>isSundayOrPublicHollyday_+24</th>\n",
       "      <th>...</th>\n",
       "      <th>PM10_04034_-9</th>\n",
       "      <th>PM10_04034_-8</th>\n",
       "      <th>PM10_04034_-7</th>\n",
       "      <th>PM10_04034_-6</th>\n",
       "      <th>PM10_04034_-5</th>\n",
       "      <th>PM10_04034_-4</th>\n",
       "      <th>PM10_04034_-3</th>\n",
       "      <th>PM10_04034_-2</th>\n",
       "      <th>PM10_04034_-1</th>\n",
       "      <th>PM10_04034_0</th>\n",
       "    </tr>\n",
       "  </thead>\n",
       "  <tbody>\n",
       "    <tr>\n",
       "      <th>0</th>\n",
       "      <td>2015-01-28 03</td>\n",
       "      <td>3</td>\n",
       "      <td>2</td>\n",
       "      <td>1</td>\n",
       "      <td>0</td>\n",
       "      <td>0</td>\n",
       "      <td>0</td>\n",
       "      <td>0</td>\n",
       "      <td>0</td>\n",
       "      <td>0</td>\n",
       "      <td>...</td>\n",
       "      <td>23</td>\n",
       "      <td>29.00</td>\n",
       "      <td>31.00</td>\n",
       "      <td>28.00</td>\n",
       "      <td>26.00</td>\n",
       "      <td>24.25</td>\n",
       "      <td>19.428581</td>\n",
       "      <td>19.412934</td>\n",
       "      <td>19</td>\n",
       "      <td>20</td>\n",
       "    </tr>\n",
       "    <tr>\n",
       "      <th>1</th>\n",
       "      <td>2015-01-28 04</td>\n",
       "      <td>4</td>\n",
       "      <td>2</td>\n",
       "      <td>1</td>\n",
       "      <td>0</td>\n",
       "      <td>0</td>\n",
       "      <td>0</td>\n",
       "      <td>0</td>\n",
       "      <td>0</td>\n",
       "      <td>0</td>\n",
       "      <td>...</td>\n",
       "      <td>29</td>\n",
       "      <td>31.00</td>\n",
       "      <td>28.00</td>\n",
       "      <td>26.00</td>\n",
       "      <td>24.25</td>\n",
       "      <td>22.50</td>\n",
       "      <td>19.428581</td>\n",
       "      <td>19.000000</td>\n",
       "      <td>20</td>\n",
       "      <td>20</td>\n",
       "    </tr>\n",
       "    <tr>\n",
       "      <th>2</th>\n",
       "      <td>2015-01-28 05</td>\n",
       "      <td>5</td>\n",
       "      <td>2</td>\n",
       "      <td>1</td>\n",
       "      <td>0</td>\n",
       "      <td>0</td>\n",
       "      <td>0</td>\n",
       "      <td>0</td>\n",
       "      <td>0</td>\n",
       "      <td>0</td>\n",
       "      <td>...</td>\n",
       "      <td>31</td>\n",
       "      <td>28.00</td>\n",
       "      <td>26.00</td>\n",
       "      <td>24.25</td>\n",
       "      <td>22.50</td>\n",
       "      <td>20.75</td>\n",
       "      <td>19.000000</td>\n",
       "      <td>20.000000</td>\n",
       "      <td>20</td>\n",
       "      <td>20</td>\n",
       "    </tr>\n",
       "    <tr>\n",
       "      <th>3</th>\n",
       "      <td>2015-01-28 06</td>\n",
       "      <td>6</td>\n",
       "      <td>2</td>\n",
       "      <td>1</td>\n",
       "      <td>0</td>\n",
       "      <td>0</td>\n",
       "      <td>0</td>\n",
       "      <td>0</td>\n",
       "      <td>0</td>\n",
       "      <td>0</td>\n",
       "      <td>...</td>\n",
       "      <td>28</td>\n",
       "      <td>26.00</td>\n",
       "      <td>24.25</td>\n",
       "      <td>22.50</td>\n",
       "      <td>20.75</td>\n",
       "      <td>19.00</td>\n",
       "      <td>20.000000</td>\n",
       "      <td>20.000000</td>\n",
       "      <td>20</td>\n",
       "      <td>18</td>\n",
       "    </tr>\n",
       "    <tr>\n",
       "      <th>4</th>\n",
       "      <td>2015-01-28 07</td>\n",
       "      <td>7</td>\n",
       "      <td>2</td>\n",
       "      <td>1</td>\n",
       "      <td>0</td>\n",
       "      <td>0</td>\n",
       "      <td>0</td>\n",
       "      <td>0</td>\n",
       "      <td>0</td>\n",
       "      <td>0</td>\n",
       "      <td>...</td>\n",
       "      <td>26</td>\n",
       "      <td>24.25</td>\n",
       "      <td>22.50</td>\n",
       "      <td>20.75</td>\n",
       "      <td>19.00</td>\n",
       "      <td>20.00</td>\n",
       "      <td>20.000000</td>\n",
       "      <td>20.000000</td>\n",
       "      <td>18</td>\n",
       "      <td>15</td>\n",
       "    </tr>\n",
       "  </tbody>\n",
       "</table>\n",
       "<p>5 rows × 3729 columns</p>\n",
       "</div>"
      ],
      "text/plain": [
       "            date  hour  day  month  isPublicHollyday  isPublicHollyday_-24  \\\n",
       "0  2015-01-28 03     3    2      1                 0                     0   \n",
       "1  2015-01-28 04     4    2      1                 0                     0   \n",
       "2  2015-01-28 05     5    2      1                 0                     0   \n",
       "3  2015-01-28 06     6    2      1                 0                     0   \n",
       "4  2015-01-28 07     7    2      1                 0                     0   \n",
       "\n",
       "   isPublicHollyday_+24  isSundayOrPublicHollyday  \\\n",
       "0                     0                         0   \n",
       "1                     0                         0   \n",
       "2                     0                         0   \n",
       "3                     0                         0   \n",
       "4                     0                         0   \n",
       "\n",
       "   isSundayOrPublicHollyday_-24  isSundayOrPublicHollyday_+24      ...       \\\n",
       "0                             0                             0      ...        \n",
       "1                             0                             0      ...        \n",
       "2                             0                             0      ...        \n",
       "3                             0                             0      ...        \n",
       "4                             0                             0      ...        \n",
       "\n",
       "   PM10_04034_-9  PM10_04034_-8  PM10_04034_-7  PM10_04034_-6  PM10_04034_-5  \\\n",
       "0             23          29.00          31.00          28.00          26.00   \n",
       "1             29          31.00          28.00          26.00          24.25   \n",
       "2             31          28.00          26.00          24.25          22.50   \n",
       "3             28          26.00          24.25          22.50          20.75   \n",
       "4             26          24.25          22.50          20.75          19.00   \n",
       "\n",
       "   PM10_04034_-4  PM10_04034_-3  PM10_04034_-2  PM10_04034_-1  PM10_04034_0  \n",
       "0          24.25      19.428581      19.412934             19            20  \n",
       "1          22.50      19.428581      19.000000             20            20  \n",
       "2          20.75      19.000000      20.000000             20            20  \n",
       "3          19.00      20.000000      20.000000             20            18  \n",
       "4          20.00      20.000000      20.000000             18            15  \n",
       "\n",
       "[5 rows x 3729 columns]"
      ]
     },
     "execution_count": 12,
     "metadata": {},
     "output_type": "execute_result"
    }
   ],
   "source": [
    "X_train_train.head()"
   ]
  },
  {
   "cell_type": "code",
   "execution_count": 13,
   "metadata": {
    "collapsed": false
   },
   "outputs": [
    {
     "name": "stdout",
     "output_type": "stream",
     "text": [
      "(3011, 96)\n",
      "(3011, 3729)\n",
      "(1020, 96)\n",
      "(1020, 3729)\n"
     ]
    }
   ],
   "source": [
    "print np.shape(Y_train_train)\n",
    "print np.shape(X_train_train)\n",
    "print np.shape(Y_train_test)\n",
    "print np.shape(X_train_test)"
   ]
  },
  {
   "cell_type": "markdown",
   "metadata": {},
   "source": [
    "## Save train_test data"
   ]
  },
  {
   "cell_type": "code",
   "execution_count": 262,
   "metadata": {
    "collapsed": true
   },
   "outputs": [],
   "source": [
    "X_train_train.to_csv('sample data/' + \"X_train_train.csv\" ,sep = ',',header = True, index = False,encoding ='utf-8')\n",
    "X_train_test.to_csv('sample data/' + \"X_train_test.csv\" ,sep = ',',header = True, index = False,encoding ='utf-8')"
   ]
  },
  {
   "cell_type": "code",
   "execution_count": 269,
   "metadata": {
    "collapsed": true
   },
   "outputs": [],
   "source": [
    "Y_train_train.to_csv('sample data/' + \"Y_train_train.csv\" ,sep = ',',header = True, index = False,encoding ='utf-8')\n",
    "Y_train_test.to_csv('sample data/' + \"Y_train_test.csv\" ,sep = ',',header = True, index = False,encoding ='utf-8')"
   ]
  },
  {
   "cell_type": "markdown",
   "metadata": {},
   "source": [
    "## Lasso\n",
    "\n",
    "### Train/Test data design"
   ]
  },
  {
   "cell_type": "code",
   "execution_count": 14,
   "metadata": {
    "collapsed": false
   },
   "outputs": [],
   "source": [
    "X_NO2_train = DataSample(X_train_train,\"NO2\")\n",
    "X_O3_train = DataSample(X_train_train,\"O3\")\n",
    "\n",
    "X_train = pd.concat([X_NO2_train, X_O3_train], axis=1)\n",
    "Y_train = DataSample(Y_train_train,\"NO2\").values\n",
    "\n",
    "X_NO2_test = DataSample(X_train_test,\"NO2\")\n",
    "X_O3_test = DataSample(X_train_test,\"O3\")\n",
    "\n",
    "X_test = pd.concat([X_NO2_test, X_O3_test], axis=1)\n",
    "Y_test = DataSample(Y_train_test,\"NO2\").values\n"
   ]
  },
  {
   "cell_type": "code",
   "execution_count": 15,
   "metadata": {
    "collapsed": false,
    "scrolled": false
   },
   "outputs": [
    {
     "data": {
      "text/plain": [
       "Lasso(alpha=6, copy_X=True, fit_intercept=True, max_iter=1000,\n",
       "   normalize=False, positive=False, precompute=False, random_state=None,\n",
       "   selection='cyclic', tol=0.0001, warm_start=False)"
      ]
     },
     "execution_count": 15,
     "metadata": {},
     "output_type": "execute_result"
    }
   ],
   "source": [
    "clf = linear_model.Lasso(alpha=6)\n",
    "clf.fit(Y_train, X_train)"
   ]
  },
  {
   "cell_type": "code",
   "execution_count": 16,
   "metadata": {
    "collapsed": false,
    "scrolled": false
   },
   "outputs": [
    {
     "data": {
      "text/plain": [
       "(array([   2.,    3.,   24.,   24.,  438.,   14.,   11.,    6.,    2.,    1.]),\n",
       " array([-0.18500259, -0.14355278, -0.10210297, -0.06065316, -0.01920335,\n",
       "         0.02224646,  0.06369628,  0.10514609,  0.1465959 ,  0.18804571,\n",
       "         0.22949552]),\n",
       " <a list of 10 Patch objects>)"
      ]
     },
     "execution_count": 16,
     "metadata": {},
     "output_type": "execute_result"
    },
    {
     "data": {
      "image/png": "[encoded data removed]",
      "text/plain": [
       "<matplotlib.figure.Figure at 0x10b0198d0>"
      ]
     },
     "metadata": {},
     "output_type": "display_data"
    }
   ],
   "source": [
    "plt.figure(figsize = [10,5])\n",
    "hour = 2\n",
    "plt.hist([clf.coef_[i][hour-1] for i in range(np.shape(clf.coef_)[0])], bins = 10)"
   ]
  },
  {
   "cell_type": "code",
   "execution_count": 29,
   "metadata": {
    "collapsed": false
   },
   "outputs": [
    {
     "name": "stdout",
     "output_type": "stream",
     "text": [
      "The hour(after) : + 1 h\n",
      "The number of variables(original) : 525\n",
      "The number of variables(selected by lasso) : 471 \n",
      "\n",
      "MSE(lasso) = 50.7419812781\n",
      "R2(lasso) = 0.80644237762\n",
      "R2_adjusted(lasso) = 0.600346609661\n",
      "\n",
      "MSE(original) = 52.1141248091\n",
      "R2(original) = 0.801208272985\n",
      "R2_adjusted(lasso) = 0.589539349078\n"
     ]
    }
   ],
   "source": [
    "hour = 1\n",
    "a=pd.Series([int(clf.coef_[i][hour-1]!=0) for i in range(np.shape(clf.coef_)[0])])\n",
    "\n",
    "X_lasso_train = X_train.loc[:,a.values != 0]\n",
    "Y_hour_train = Y_train[:,hour-1]\n",
    "X_lasso_test = X_test.loc[:,a.values != 0]\n",
    "Y_hour_test = Y_test[:,hour-1]\n",
    "\n",
    "print \"The hour(after) : +\", hour,\"h\"\n",
    "print \"The number of variables(original) :\", np.shape(X_train)[1]\n",
    "print \"The number of variables(selected by lasso) :\", np.shape(X_lasso_train)[1],\"\\n\"\n",
    "\n",
    "lm = linear_model.LinearRegression()\n",
    "lm.fit(X_lasso_train,Y_hour_train)\n",
    "MSE = np.mean((Y_hour_test - lm.predict(X_lasso_test)) ** 2)\n",
    "R2 = lm.score(X_lasso_test,Y_hour_test)\n",
    "R2_adjusted = 1-(1-R2)*(len(X_test-1))/float(len(X_test)- np.shape(X_train)[1]-1)\n",
    "print 'MSE(lasso) = ' + str(MSE) \n",
    "print 'R2(lasso) = ' + str(R2) \n",
    "print 'R2_adjusted(lasso) = ' + str(R2_adjusted) +'\\n'\n",
    "\n",
    "lm = linear_model.LinearRegression()\n",
    "lm.fit(X_train,Y_hour_train)\n",
    "MSE = np.mean((Y_hour_test - lm.predict(X_test)) ** 2)\n",
    "R2 = lm.score(X_test,Y_hour_test)\n",
    "R2_adjusted = 1-(1-R2)*(len(X_test-1))/float(len(X_test)- np.shape(X_train)[1]-1)\n",
    "print 'MSE(original) = ' + str(MSE) \n",
    "print 'R2(original) = ' + str(R2) \n",
    "print 'R2_adjusted(lasso) = ' + str(R2_adjusted) \n"
   ]
  },
  {
   "cell_type": "code",
   "execution_count": null,
   "metadata": {
    "collapsed": true
   },
   "outputs": [],
   "source": []
  },
  {
   "cell_type": "code",
   "execution_count": null,
   "metadata": {
    "collapsed": false
   },
   "outputs": [],
   "source": [
    "DataSample(X_lasso_train,'NO2').columns"
   ]
  },
  {
   "cell_type": "code",
   "execution_count": null,
   "metadata": {
    "collapsed": true
   },
   "outputs": [],
   "source": []
  },
  {
   "cell_type": "code",
   "execution_count": null,
   "metadata": {
    "collapsed": true
   },
   "outputs": [],
   "source": []
  },
  {
   "cell_type": "code",
   "execution_count": null,
   "metadata": {
    "collapsed": true
   },
   "outputs": [],
   "source": []
  },
  {
   "cell_type": "code",
   "execution_count": null,
   "metadata": {
    "collapsed": true
   },
   "outputs": [],
   "source": []
  },
  {
   "cell_type": "code",
   "execution_count": null,
   "metadata": {
    "collapsed": true
   },
   "outputs": [],
   "source": []
  },
  {
   "cell_type": "code",
   "execution_count": null,
   "metadata": {
    "collapsed": true
   },
   "outputs": [],
   "source": []
  },
  {
   "cell_type": "code",
   "execution_count": null,
   "metadata": {
    "collapsed": true
   },
   "outputs": [],
   "source": []
  },
  {
   "cell_type": "code",
   "execution_count": null,
   "metadata": {
    "collapsed": true
   },
   "outputs": [],
   "source": []
  },
  {
   "cell_type": "code",
   "execution_count": null,
   "metadata": {
    "collapsed": true
   },
   "outputs": [],
   "source": []
  }
 ],
 "metadata": {
  "kernelspec": {
   "display_name": "Python 2",
   "language": "python",
   "name": "python2"
  },
  "language_info": {
   "codemirror_mode": {
    "name": "ipython",
    "version": 2
   },
   "file_extension": ".py",
   "mimetype": "text/x-python",
   "name": "python",
   "nbconvert_exporter": "python",
   "pygments_lexer": "ipython2",
   "version": "2.7.11"
  }
 },
 "nbformat": 4,
 "nbformat_minor": 0
}
